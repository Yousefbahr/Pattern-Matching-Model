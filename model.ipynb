{
  "cells": [
    {
      "cell_type": "markdown",
      "source": [
        "The model could be improved with the following:\n",
        "\n",
        "- Use one-hot representation on only the drug name and a different reprenstation describing the unit (mg/g) and another representation for number of grams/mg\n",
        "\n",
        "- you could normalize the number of grams/mg to be all from 0 to 1\n",
        "\n",
        "- retrain (or train from scratch) on  a lot of data containing alot of the similar names like panadol and pandol extra (hard negative mining)\n",
        ". same thing with english names.\n",
        "\n",
        "- instead of using the l2 norm between the two vectors as an input, use the difference of the two vectors. And let the NN learn a weighted sum."
      ],
      "metadata": {
        "id": "x5VOwoL7z9Ou"
      }
    },
    {
      "cell_type": "code",
      "source": [
        "!pip install fuzzywuzzy"
      ],
      "metadata": {
        "colab": {
          "base_uri": "https://localhost:8080/"
        },
        "id": "jqT1V43IOzSi",
        "outputId": "b0231fad-4413-4329-89e9-2b525fb9d340"
      },
      "execution_count": 1,
      "outputs": [
        {
          "output_type": "stream",
          "name": "stdout",
          "text": [
            "Collecting fuzzywuzzy\n",
            "  Downloading fuzzywuzzy-0.18.0-py2.py3-none-any.whl.metadata (4.9 kB)\n",
            "Downloading fuzzywuzzy-0.18.0-py2.py3-none-any.whl (18 kB)\n",
            "Installing collected packages: fuzzywuzzy\n",
            "Successfully installed fuzzywuzzy-0.18.0\n"
          ]
        }
      ]
    },
    {
      "cell_type": "code",
      "execution_count": 2,
      "metadata": {
        "id": "IRGSrsnM0X4F",
        "colab": {
          "base_uri": "https://localhost:8080/"
        },
        "outputId": "5ab6c851-54a1-4afe-f33f-9a10da08ee54"
      },
      "outputs": [
        {
          "output_type": "stream",
          "name": "stderr",
          "text": [
            "/usr/local/lib/python3.11/dist-packages/fuzzywuzzy/fuzz.py:11: UserWarning: Using slow pure-python SequenceMatcher. Install python-Levenshtein to remove this warning\n",
            "  warnings.warn('Using slow pure-python SequenceMatcher. Install python-Levenshtein to remove this warning')\n"
          ]
        }
      ],
      "source": [
        "import numpy as np\n",
        "import pandas as pd\n",
        "import matplotlib.pyplot as plt\n",
        "import re\n",
        "import tensorflow as tf\n",
        "from sklearn.model_selection import train_test_split\n",
        "from sklearn.metrics import accuracy_score, confusion_matrix, classification_report, precision_score, recall_score, f1_score\n",
        "from sklearn.utils import shuffle\n",
        "from tensorflow.keras.layers import Bidirectional, Concatenate, Permute, Dot, Input, LSTM, Multiply, Softmax, Reshape, Embedding\n",
        "from tensorflow.keras.layers import RepeatVector, Dense, Activation, Lambda, Masking, Dropout\n",
        "from tensorflow.keras.optimizers import Adam\n",
        "from tensorflow.keras.utils import to_categorical\n",
        "from tensorflow.keras.models import load_model\n",
        "from fuzzywuzzy import fuzz, process"
      ]
    },
    {
      "cell_type": "code",
      "execution_count": 8,
      "metadata": {
        "id": "UurBmM5z0pd_"
      },
      "outputs": [],
      "source": [
        "# sku 307 is not in the dataset file\n",
        "data = pd.read_excel(\"data.xlsx\", sheet_name=\"Dataset\")\n",
        "target = pd.read_excel(\"data.xlsx\", sheet_name=\"Master File\")"
      ]
    },
    {
      "cell_type": "code",
      "source": [
        "target.info()"
      ],
      "metadata": {
        "colab": {
          "base_uri": "https://localhost:8080/"
        },
        "id": "MmVw9KtEtA5u",
        "outputId": "3b639e5d-4150-4a2e-f856-adccdff45bcd"
      },
      "execution_count": 9,
      "outputs": [
        {
          "output_type": "stream",
          "name": "stdout",
          "text": [
            "<class 'pandas.core.frame.DataFrame'>\n",
            "RangeIndex: 1000 entries, 0 to 999\n",
            "Data columns (total 4 columns):\n",
            " #   Column           Non-Null Count  Dtype  \n",
            "---  ------           --------------  -----  \n",
            " 0   sku              1000 non-null   int64  \n",
            " 1   product_name     1000 non-null   object \n",
            " 2   product_name_ar  1000 non-null   object \n",
            " 3   price            1000 non-null   float64\n",
            "dtypes: float64(1), int64(1), object(2)\n",
            "memory usage: 31.4+ KB\n"
          ]
        }
      ]
    },
    {
      "cell_type": "code",
      "execution_count": 10,
      "metadata": {
        "colab": {
          "base_uri": "https://localhost:8080/"
        },
        "id": "Vp6CPzsK0qhQ",
        "outputId": "e9a008c7-c4ea-43f9-9cd5-8a5c4cdac15f"
      },
      "outputs": [
        {
          "output_type": "stream",
          "name": "stdout",
          "text": [
            "<class 'pandas.core.frame.DataFrame'>\n",
            "RangeIndex: 83562 entries, 0 to 83561\n",
            "Data columns (total 4 columns):\n",
            " #   Column                       Non-Null Count  Dtype  \n",
            "---  ------                       --------------  -----  \n",
            " 0   sku                          83562 non-null  int64  \n",
            " 1   marketplace_product_name_ar  83562 non-null  object \n",
            " 2   seller_item_name             83562 non-null  object \n",
            " 3   price                        83562 non-null  float64\n",
            "dtypes: float64(1), int64(1), object(2)\n",
            "memory usage: 2.6+ MB\n",
            "None\n"
          ]
        }
      ],
      "source": [
        "print(data.info())"
      ]
    },
    {
      "cell_type": "code",
      "execution_count": 11,
      "metadata": {
        "id": "yfuz-c1L0q0K"
      },
      "outputs": [],
      "source": [
        "seller_item_name = data[\"seller_item_name\"]\n",
        "sku_values = data[\"sku\"]\n"
      ]
    },
    {
      "cell_type": "code",
      "execution_count": 12,
      "metadata": {
        "colab": {
          "base_uri": "https://localhost:8080/",
          "height": 465
        },
        "id": "uxH49vJgCJqz",
        "outputId": "109770a7-048c-48c4-bd5e-449fc93a75f4"
      },
      "outputs": [
        {
          "output_type": "stream",
          "name": "stdout",
          "text": [
            "4171\n",
            "41606\n"
          ]
        },
        {
          "output_type": "display_data",
          "data": {
            "text/plain": [
              "<Figure size 640x480 with 1 Axes>"
            ],
            "image/png": "[encoded data removed]"
          },
          "metadata": {}
        }
      ],
      "source": [
        "# the input sequence will be 30\n",
        "\n",
        "lengths = np.array([len(sen) for sen in seller_item_name])\n",
        "\n",
        "print(np.sum(lengths > 30))\n",
        "\n",
        "print(np.sum(lengths > 20))\n",
        "\n",
        "plt.hist(lengths, bins=12)\n",
        "\n",
        "Tx = 30"
      ]
    },
    {
      "cell_type": "code",
      "execution_count": 13,
      "metadata": {
        "colab": {
          "base_uri": "https://localhost:8080/"
        },
        "id": "aWy87F4aK5Y2",
        "outputId": "0adb85b9-ec4e-4c59-ada9-e85ce1031194"
      },
      "outputs": [
        {
          "output_type": "stream",
          "name": "stdout",
          "text": [
            "بولي فريش اكسترا قطرة عين احادي الجرعة 30 * 0.4 مل\n"
          ]
        }
      ],
      "source": [
        "arabic_char = list(\"اﻷإﻹأآءئبتثجحخدذرزسشصضطظعغفقكلمنهويىة\")\n",
        "english_char = list(\"abcdefghijklmnopqrstuvwxyz\")\n",
        "symbols = list(\".%/\")\n",
        "numbers = [str(num) for num in range(10)]\n",
        "# arabic + symbols + english + numbers\n",
        "\n",
        "# mapping characters to indices\n",
        "index_to_char = {}\n",
        "char_to_index = {}\n",
        "for i, char in enumerate(arabic_char + symbols + english_char + numbers):\n",
        "  index_to_char.update({i: char })\n",
        "  char_to_index.update({char: i})\n",
        "\n",
        "vocab_size = len(index_to_char)\n",
        "print(max(seller_item_name, key=len))\n"
      ]
    },
    {
      "cell_type": "code",
      "source": [
        "def apply_regex(sentence):\n",
        "  \"\"\"\n",
        "  apply regex on a string and return new one\n",
        "  \"\"\"\n",
        "  new = re.sub(r\"[^a-zA-Z0-9%\\.\\u0600-\\u06FF\\s]\", \" \", sentence)\n",
        "  # remove tatweel symbol\n",
        "  new = re.sub(r\"\\u0640\", \"\" , new)\n",
        "  # remove tashkeel\n",
        "  new = re.sub(r\"[\\u064B-\\u0652]\", \"\", new)\n",
        "  # remove arabic punctuation\n",
        "  new = re.sub(r\"[،؛؟“”‘’•]\", \"\", new)\n",
        "  # remove extra spaces\n",
        "  new = re.sub(r\"^\\s+|\\s+$|\\s{2,}\", \" \", new).strip()\n",
        "  new = re.sub(r\"^\\s+\", \" \", new)\n",
        "  return new\n"
      ],
      "metadata": {
        "id": "sa8dbUpXxDd2"
      },
      "execution_count": 14,
      "outputs": []
    },
    {
      "cell_type": "code",
      "source": [
        "def pre_process_strings(x, Tx, char_to_index, pad_value= -1):\n",
        "  \"\"\"\n",
        "  x: array of strings\n",
        "  Tx: sequence length\n",
        "  char_to_index: a dict mapping characters to indices\n",
        "  pad_value : the value to use in padding\n",
        "\n",
        "  Processes a list of strings by applying regex then mapping the chars to indices\n",
        "\n",
        "  Returns:\n",
        "    indices: shape(x.shape[0], Tx)\n",
        "  \"\"\"\n",
        "\n",
        "  if isinstance(x, (pd.DataFrame, pd.Series)):\n",
        "    x = x.values\n",
        "\n",
        "  x = x.copy()\n",
        "  for i, sentence in enumerate(x):\n",
        "    x[i] = apply_regex(sentence)\n",
        "\n",
        "  indices = np.full((len(x), Tx), pad_value)\n",
        "  for i, sentence in enumerate(x):\n",
        "    chars = list(sentence)\n",
        "    for j, char in enumerate(chars):\n",
        "      char = char.lower()\n",
        "      # remove whitespace\n",
        "      if char == ' ':\n",
        "        continue\n",
        "      if j < Tx:\n",
        "        if char in char_to_index:\n",
        "          indices[i, j] = char_to_index[char]\n",
        "\n",
        "\n",
        "  return indices\n",
        "\n"
      ],
      "metadata": {
        "id": "CqMBAN-vaZPT"
      },
      "execution_count": 15,
      "outputs": []
    },
    {
      "cell_type": "code",
      "source": [
        "def pre_process_dataset_training(X, Y,Tx, char_to_index, unique_classes = 500, sample_per_categ = 200 , negative_samples_ratio=0.5):\n",
        "  \"\"\"\n",
        "  X: array of input strings (samples) of shape(m,) | where m is number of samples\n",
        "  Y: array of target strings of shape (m,) | where m is number of samples\n",
        "  Tx: sequence length\n",
        "  char_to_index: a dict mapping all characters in vocab to their indices (0 to vocab_size)\n",
        "  unique_classes: number of unqiue classes in the dataset\n",
        "  sample_per_categ: is the number of positive and negative samples (combined) for each sample\n",
        "  negative_samples_ratio: ratio of negative to postive samples\n",
        "\n",
        "  returns 'sample_per_categ' positve and negative samples for each sample\n",
        "  for negative samples randomly choose another class\n",
        "\n",
        "  new_X: shape(n, 2, Tx)\n",
        "  new_y: shape(n,)\n",
        "  n is the new number of samples , which could be different that the original (m)\n",
        "  n = sample_per_categ * unique_classes\n",
        "  \"\"\"\n",
        "\n",
        "  X = X.copy()\n",
        "  Y = Y.copy()\n",
        "\n",
        "  # -1 for padded values\n",
        "  indices_X = pre_process_strings(X, Tx, char_to_index)\n",
        "  indices_y = pre_process_strings(Y, Tx, char_to_index)\n",
        "\n",
        "  start_new_category = []\n",
        "  for i, sentence in enumerate(Y):\n",
        "    # maintain the starting index of a new category\n",
        "    if i == 0:\n",
        "      start_new_category.append(i)\n",
        "    else:\n",
        "      if Y[i] != Y[i - 1]:\n",
        "        start_new_category.append(i)\n",
        "\n",
        "  print(start_new_category)\n",
        "\n",
        "  # make positive and negative samples\n",
        "  n = (sample_per_categ * unique_classes)\n",
        "  new_X = np.zeros((n, 2, Tx))\n",
        "  new_y = np.full((n,), -1)\n",
        "\n",
        "  num_positive_samples = int(sample_per_categ * (1 - negative_samples_ratio))\n",
        "  num_negative_samples =  int(sample_per_categ * negative_samples_ratio)\n",
        "\n",
        "  # positive samples\n",
        "  for i in range(unique_classes): # 0 to 499\n",
        "    for j in range(num_positive_samples): # 0 to 239\n",
        "\n",
        "      first_index = start_new_category[i]\n",
        "      # last category\n",
        "      if i == len(start_new_category) - 1:\n",
        "        last_index = len(X)\n",
        "      else:\n",
        "        last_index = start_new_category[i + 1] - 1\n",
        "\n",
        "      # index for indices_X and indices_y\n",
        "      index = np.random.randint(first_index, last_index, size = 1)\n",
        "\n",
        "      # positive sample\n",
        "      new_X[int(j + (i * sample_per_categ * (1 - negative_samples_ratio))) , 0, :] = indices_X[index, :]\n",
        "      new_X[int(j + (i * sample_per_categ * (1 - negative_samples_ratio))) , 1, :] = indices_y[index, :]\n",
        "      new_y[int(j + (i * sample_per_categ * (1 - negative_samples_ratio)))] = 1\n",
        "\n",
        "\n",
        "  # starting index\n",
        "  start = unique_classes * (sample_per_categ * (1 - negative_samples_ratio))\n",
        "  # negative samples\n",
        "  for i in range(unique_classes): # 0 to 499\n",
        "    for j in range(num_negative_samples): # 0 to 239\n",
        "\n",
        "      first_index = start_new_category[i]\n",
        "      # last category\n",
        "      if i == len(start_new_category) - 1:\n",
        "        last_index = len(X)\n",
        "      else:\n",
        "        last_index = start_new_category[i + 1] - 1\n",
        "\n",
        "\n",
        "      # index for indices_X and indices_y\n",
        "      # choose index from current category\n",
        "      index = np.random.randint(first_index, last_index, size = 1)\n",
        "\n",
        "      # random index for negative samples (not similar)\n",
        "      rand_index = np.random.randint(low= 0, high= X.shape[0], size=1)[0]\n",
        "      # if the random index is the same category as current category, get another index\n",
        "      while rand_index >= first_index and rand_index < last_index:\n",
        "        rand_index = np.random.randint(low= 0, high= X.shape[0], size=1)[0]\n",
        "\n",
        "\n",
        "      # negative sample\n",
        "      new_X[int(j + start + (i * sample_per_categ * negative_samples_ratio)) , 0, :] = indices_X[index, :]\n",
        "      new_X[int(j + start + (i * sample_per_categ * negative_samples_ratio)) , 1, :] = indices_y[rand_index, :]\n",
        "      new_y[int(j + start + (i * sample_per_categ * negative_samples_ratio))] = 0\n",
        "\n",
        "\n",
        "\n",
        "  return new_X[new_y != -1], new_y[new_y != -1]\n"
      ],
      "metadata": {
        "id": "DlaYBkX0PFfS"
      },
      "execution_count": 16,
      "outputs": []
    },
    {
      "cell_type": "code",
      "source": [
        "def pre_process_input(sentence1, sentence2, Tx, char_to_index):\n",
        "  \"\"\"\n",
        "  sentence1: string\n",
        "  sentence2: string\n",
        "  Tx: sequence length\n",
        "  char_to_index: a dict mapping all characters in vocab to their indices (0 to vocab_size)\n",
        "\n",
        "  Returns:\n",
        "    x: shape(1, 2, Tx, len(char_to_index)) , an input ready for prediction\n",
        "  \"\"\"\n",
        "\n",
        "  sentences = [sentence1, sentence2]\n",
        "  x = pre_process_strings(sentences, Tx, char_to_index)[np.newaxis, ...]\n",
        "\n",
        "  return tf.one_hot(x, depth=len(char_to_index), axis=-1)\n"
      ],
      "metadata": {
        "id": "fbMKnXfYS_pp"
      },
      "execution_count": 17,
      "outputs": []
    },
    {
      "cell_type": "code",
      "source": [
        "unique_categ = len(sku_values.unique())"
      ],
      "metadata": {
        "id": "fAlgQQ9Ev7Z2"
      },
      "execution_count": 28,
      "outputs": []
    },
    {
      "cell_type": "code",
      "source": [
        "X, y = pre_process_dataset_training(data[\"seller_item_name\"], data[\"marketplace_product_name_ar\"],\n",
        "                       Tx, char_to_index, unique_categ)\n",
        "print(np.sum(y == -1))"
      ],
      "metadata": {
        "colab": {
          "base_uri": "https://localhost:8080/"
        },
        "id": "zwf5bU430RAJ",
        "outputId": "bef11c44-a2c1-4b46-c583-d4109283d32b"
      },
      "execution_count": null,
      "outputs": [
        {
          "output_type": "stream",
          "name": "stdout",
          "text": [
            "[0, 179, 358, 536, 714, 890, 1066, 1242, 1418, 1594, 1770, 1946, 2122, 2298, 2473, 2648, 2823, 2998, 3173, 3348, 3523, 3698, 3873, 4048, 4223, 4397, 4571, 4745, 4919, 5093, 5267, 5441, 5615, 5789, 5963, 6137, 6311, 6485, 6659, 6833, 7007, 7181, 7355, 7529, 7702, 7875, 8048, 8221, 8394, 8567, 8740, 8913, 9086, 9259, 9432, 9605, 9778, 9951, 10124, 10297, 10470, 10643, 10816, 10988, 11160, 11332, 11504, 11676, 11848, 12020, 12192, 12364, 12536, 12708, 12880, 13052, 13224, 13396, 13568, 13740, 13912, 14083, 14254, 14425, 14596, 14767, 14938, 15109, 15280, 15451, 15622, 15793, 15964, 16135, 16306, 16477, 16648, 16819, 16990, 17161, 17332, 17503, 17674, 17845, 18016, 18187, 18358, 18529, 18700, 18871, 19042, 19213, 19383, 19553, 19723, 19893, 20063, 20233, 20403, 20573, 20743, 20913, 21083, 21253, 21423, 21593, 21763, 21933, 22103, 22273, 22443, 22613, 22783, 22953, 23123, 23293, 23463, 23633, 23803, 23973, 24143, 24313, 24483, 24653, 24823, 24993, 25163, 25333, 25503, 25672, 25841, 26010, 26179, 26348, 26517, 26686, 26855, 27024, 27193, 27362, 27531, 27700, 27869, 28038, 28207, 28376, 28545, 28714, 28883, 29052, 29221, 29390, 29559, 29728, 29897, 30066, 30235, 30404, 30573, 30742, 30911, 31080, 31249, 31418, 31587, 31756, 31925, 32094, 32263, 32431, 32599, 32767, 32935, 33103, 33271, 33439, 33607, 33775, 33943, 34111, 34279, 34447, 34615, 34783, 34951, 35119, 35287, 35455, 35623, 35791, 35959, 36127, 36295, 36463, 36631, 36799, 36967, 37135, 37303, 37471, 37639, 37807, 37975, 38143, 38311, 38479, 38646, 38813, 38980, 39147, 39314, 39481, 39648, 39815, 39982, 40149, 40316, 40483, 40650, 40817, 40984, 41151, 41318, 41485, 41652, 41819, 41986, 42153, 42320, 42487, 42654, 42821, 42988, 43155, 43322, 43489, 43656, 43823, 43990, 44157, 44324, 44491, 44658, 44825, 44992, 45159, 45326, 45493, 45659, 45825, 45991, 46157, 46323, 46489, 46655, 46821, 46987, 47153, 47319, 47485, 47651, 47817, 47983, 48149, 48315, 48481, 48647, 48813, 48979, 49145, 49311, 49477, 49643, 49809, 49975, 50141, 50307, 50473, 50639, 50805, 50971, 51137, 51303, 51469, 51634, 51799, 51964, 52129, 52294, 52459, 52624, 52789, 52954, 53119, 53284, 53449, 53614, 53779, 53944, 54109, 54274, 54439, 54604, 54769, 54934, 55099, 55264, 55429, 55594, 55759, 55924, 56089, 56254, 56419, 56584, 56749, 56914, 57079, 57244, 57409, 57574, 57739, 57903, 58067, 58231, 58395, 58559, 58723, 58887, 59051, 59215, 59379, 59543, 59707, 59871, 60035, 60199, 60363, 60527, 60691, 60855, 61019, 61183, 61347, 61511, 61675, 61839, 62003, 62167, 62331, 62495, 62659, 62823, 62987, 63151, 63315, 63479, 63643, 63807, 63971, 64135, 64299, 64463, 64626, 64789, 64952, 65115, 65278, 65441, 65604, 65767, 65930, 66093, 66256, 66419, 66582, 66745, 66908, 67071, 67234, 67397, 67560, 67723, 67886, 68049, 68212, 68375, 68538, 68701, 68864, 69027, 69190, 69353, 69516, 69679, 69842, 70005, 70168, 70331, 70494, 70657, 70819, 70981, 71143, 71305, 71467, 71629, 71791, 71953, 72115, 72277, 72439, 72601, 72763, 72925, 73087, 73249, 73411, 73573, 73735, 73897, 74059, 74221, 74383, 74545, 74707, 74869, 75031, 75193, 75355, 75517, 75679, 75840, 76001, 76162, 76323, 76484, 76645, 76806, 76967, 77128, 77289, 77450, 77611, 77772, 77933, 78094, 78255, 78416, 78577, 78738, 78899, 79060, 79221, 79382, 79543, 79704, 79865, 80026, 80187, 80348, 80509, 80670, 80831, 80992, 81153, 81314, 81475, 81636, 81797, 81958, 82119, 82280, 82441, 82602, 82762, 82922, 83082, 83242, 83402]\n",
            "0\n"
          ]
        }
      ]
    },
    {
      "cell_type": "code",
      "source": [
        "big = 0\n",
        "\n",
        "for index in X[big, 0, :]:\n",
        "  if index == -1:\n",
        "    continue\n",
        "  print(index_to_char[index], end=\"\")\n",
        "\n",
        "print(\"\\n\")\n",
        "for index in X[big, 1, :]:\n",
        "  if index == -1:\n",
        "    continue\n",
        "  print(index_to_char[index], end=\"\")\n",
        "\n",
        "print(\"\\n\")\n",
        "print(y[big])"
      ],
      "metadata": {
        "colab": {
          "base_uri": "https://localhost:8080/"
        },
        "id": "W0VxuOjcgwnx",
        "outputId": "31670889-e7ce-44ca-ca7c-6b78762c1f00"
      },
      "execution_count": null,
      "outputs": [
        {
          "output_type": "stream",
          "name": "stdout",
          "text": [
            "استوهالت40كبسولسعرجديد\n",
            "\n",
            "استوهالت40مجم14كبسول\n",
            "\n",
            "1\n"
          ]
        }
      ]
    },
    {
      "cell_type": "code",
      "source": [
        "print(X.shape)\n",
        "print(y.shape)"
      ],
      "metadata": {
        "id": "rJ4nWEioaCi1",
        "colab": {
          "base_uri": "https://localhost:8080/"
        },
        "outputId": "3233b768-f17c-46d5-bd80-e5472331c89b"
      },
      "execution_count": null,
      "outputs": [
        {
          "output_type": "stream",
          "name": "stdout",
          "text": [
            "(100000, 2, 30)\n",
            "(100000,)\n"
          ]
        }
      ]
    },
    {
      "cell_type": "code",
      "source": [
        "X, y = shuffle(X, y, random_state =42)"
      ],
      "metadata": {
        "id": "Ii6t-iRi-hSn"
      },
      "execution_count": null,
      "outputs": []
    },
    {
      "cell_type": "code",
      "source": [
        "X = tf.one_hot(X, depth = vocab_size, axis = -1)"
      ],
      "metadata": {
        "id": "aZVrTaJoAjDa"
      },
      "execution_count": null,
      "outputs": []
    },
    {
      "cell_type": "markdown",
      "source": [
        "- The input data X : consists of a tuple (inp1, inp2)\n",
        "  - Each input represents a sentence (medication name)\n",
        "\n",
        "-  The target y : is 0 or 1 for similar or dissimilar, a binary classification problem.\n",
        "\n",
        "- The architecture is (for each input, shared weights) a masking layer , LSTM layer, a distance function which computes the euclidean distance between the final hidden states of the two lstms then Dense Layer with sigmoid activation."
      ],
      "metadata": {
        "id": "I63g3cVVlGK7"
      }
    },
    {
      "cell_type": "code",
      "source": [
        "class Model(tf.keras.Model):\n",
        "  def __init__(self, num_of_layers, hidden_dim ,dropout_rate = 0.3, **kwargs):\n",
        "    super(Model, self).__init__(**kwargs)\n",
        "    self.num_layers = num_of_layers\n",
        "    self.hidden_dim = hidden_dim\n",
        "    self.dropout_rate = dropout_rate\n",
        "    self.masking = Masking(mask_value = 0)\n",
        "    self.last_lstm = LSTM(hidden_dim, return_state = True)\n",
        "    self.lstm_layers = [LSTM(hidden_dim, return_sequences=True)\n",
        "                        for _ in range(self.num_layers - 1)]\n",
        "    self.dropout = Dropout(dropout_rate)\n",
        "    self.dense = Dense(1, activation=\"sigmoid\")\n",
        "\n",
        "  def call_once(self, x):\n",
        "    x = self.masking(x)\n",
        "\n",
        "    for i in range(len(self.lstm_layers)):\n",
        "      x = self.lstm_layers[i](x)\n",
        "      # x = self.dropout(x)\n",
        "\n",
        "    x, final_hidden, _ = self.last_lstm(x)\n",
        "\n",
        "    return final_hidden\n",
        "\n",
        "  def call(self, inputs):\n",
        "    x1 = inputs[:, 0, :, :]\n",
        "    x2 = inputs[:, 1, :, :]\n",
        "\n",
        "    first_output = self.call_once(x1)\n",
        "    sec_output = self.call_once(x2)\n",
        "\n",
        "    distance = tf.norm(first_output - sec_output, axis =1 , keepdims=True)\n",
        "    distance = tf.clip_by_value(distance, clip_value_min=1e-7, clip_value_max=1e7)\n",
        "\n",
        "    return self.dense(distance)\n",
        "\n",
        "  def get_config(self):\n",
        "    # Return the configuration of the custom layer, including any parameters\n",
        "    config = super(Model, self).get_config()\n",
        "    # Add any custom parameters here\n",
        "    config.update({\n",
        "        \"num_of_layers\":self.num_layers,\n",
        "        \"hidden_dim\": self.hidden_dim,\n",
        "        \"dropout_rate\" : self.dropout_rate\n",
        "    })\n",
        "    return config\n"
      ],
      "metadata": {
        "id": "9uOpSRX8Edco"
      },
      "execution_count": 21,
      "outputs": []
    },
    {
      "cell_type": "code",
      "source": [
        "model = Model(1, 64)\n",
        "# (1, 64) got inference of batch size of 32 in 12ms"
      ],
      "metadata": {
        "id": "j2trJi-5-Lc5"
      },
      "execution_count": 15,
      "outputs": []
    },
    {
      "cell_type": "code",
      "source": [
        "# print(X_train.shape)\n",
        "print(X.shape)"
      ],
      "metadata": {
        "colab": {
          "base_uri": "https://localhost:8080/"
        },
        "id": "IlMUoKM90jpe",
        "outputId": "10daaf06-2229-4e67-acca-a2965fa69859"
      },
      "execution_count": null,
      "outputs": [
        {
          "output_type": "stream",
          "name": "stdout",
          "text": [
            "(100000, 2, 30, 76)\n"
          ]
        }
      ]
    },
    {
      "cell_type": "code",
      "source": [
        "\n",
        "opt = tf.keras.optimizers.Adam(learning_rate=0.003)\n",
        "model.compile(optimizer=opt, loss=\"binary_crossentropy\", metrics=[\"accuracy\", \"precision\"])\n"
      ],
      "metadata": {
        "id": "ULu2IOsr8ASD"
      },
      "execution_count": null,
      "outputs": []
    },
    {
      "cell_type": "code",
      "source": [
        "\n",
        "# history = model.fit(X_train, y_train, epochs= 4, verbose=1, batch_size=1024)\n",
        "history = model.fit(X, y, epochs = 3, verbose=1, batch_size=128)"
      ],
      "metadata": {
        "colab": {
          "base_uri": "https://localhost:8080/"
        },
        "id": "8EqDtFNJC991",
        "outputId": "71cb04db-9da5-453c-b257-b2aea218612e"
      },
      "execution_count": null,
      "outputs": [
        {
          "output_type": "stream",
          "name": "stdout",
          "text": [
            "Epoch 1/3\n",
            "\u001b[1m782/782\u001b[0m \u001b[32m━━━━━━━━━━━━━━━━━━━━\u001b[0m\u001b[37m\u001b[0m \u001b[1m179s\u001b[0m 211ms/step - accuracy: 0.9847 - loss: 0.1368 - precision: 0.9929\n",
            "Epoch 2/3\n",
            "\u001b[1m782/782\u001b[0m \u001b[32m━━━━━━━━━━━━━━━━━━━━\u001b[0m\u001b[37m\u001b[0m \u001b[1m204s\u001b[0m 214ms/step - accuracy: 0.9876 - loss: 0.0709 - precision: 0.9888\n",
            "Epoch 3/3\n",
            "\u001b[1m782/782\u001b[0m \u001b[32m━━━━━━━━━━━━━━━━━━━━\u001b[0m\u001b[37m\u001b[0m \u001b[1m204s\u001b[0m 217ms/step - accuracy: 0.9865 - loss: 0.0723 - precision: 0.9868\n"
          ]
        }
      ]
    },
    {
      "cell_type": "code",
      "source": [
        "def get_prediction(first_model, file_input, Tx, char_to_index , file_targets = \"Product Matching Dataset.xlsx\"):\n",
        "  \"\"\"\n",
        "  Parms:\n",
        "  - model: the loaded model\n",
        "\n",
        "  - file_input: excel file that contains the unformatted names with three\n",
        "    columns: \"item_code\", \"product_name\", \"price\n",
        "\n",
        "  - Tx: sequence length\n",
        "\n",
        "  - char_to_index: a dict mapping characters to indices\n",
        "\n",
        "  - file_targets: the master file with formatted names\n",
        "\n",
        "  outputs an excel file with the same structure as 'file_input' with two more\n",
        "  columns: sku, item_name.\n",
        "\n",
        "  Returns:\n",
        "    - dataframe of probabilites, matched names, and input names\n",
        "    - binary array of 0/1\n",
        "  \"\"\"\n",
        "  input_dataframe = pd.read_excel(file_input)\n",
        "  target_dataframe = pd.read_excel(file_targets, sheet_name=\"Master File\")\n",
        "\n",
        "  # unformatted names\n",
        "  input_sentences = input_dataframe[\"product_name\"]\n",
        "\n",
        "  # formatted names\n",
        "  targets = target_dataframe[\"product_name_ar\"]\n",
        "  target_sku = target_dataframe[\"sku\"]\n",
        "\n",
        "  # output file with sku\n",
        "  output_df = input_dataframe.copy()\n",
        "\n",
        "  assert targets.ndim == 1 , \"Targets array is not 1-dimensional\"\n",
        "  assert input_sentences.ndim == 1 , \"Input array is not 1-dimensional\"\n",
        "\n",
        "  if isinstance(targets, (pd.DataFrame, pd.Series)):\n",
        "    targets = targets.values\n",
        "\n",
        "  if isinstance(input_sentences, (pd.DataFrame, pd.Series)):\n",
        "    input_sentences = input_sentences.values\n",
        "\n",
        "\n",
        "  target_to_idx = {}\n",
        "  pattern = r'(?<=[0-9])(?=[\\u0600-\\u06FF\\u0750-\\u077F\\u08A0-\\u08FF\\uFB50-\\uFDFF\\uFE70-\\uFEFF])|(?<=[\\u0600-\\u06FF\\u0750-\\u077F\\u08A0-\\u08FF\\uFB50-\\uFDFF\\uFE70-\\uFEFF])(?=[0-9])'\n",
        "  for idx, name in enumerate(targets):\n",
        "    name = re.sub(pattern, ' ', name)\n",
        "    name = re.sub(r\"[أآإٱا]\" , \"ا\", name)\n",
        "    name = re.sub(r\"[هة]\", \"ه\", name)\n",
        "    target_to_idx.update({name: idx})\n",
        "\n",
        "\n",
        "  # shape (targets[0], Tx)\n",
        "  targets_indices = np.expand_dims(pre_process_strings(targets, Tx, char_to_index), 1)\n",
        "\n",
        "\n",
        "  input_indices = pre_process_strings(input_sentences, Tx, char_to_index)\n",
        "\n",
        "  # repeat input to try to match it with each sentence in targets\n",
        "  input_repeated = np.expand_dims(np.repeat(input_indices, targets.shape[0], axis=0), 1)\n",
        "\n",
        "  targets_indices_repeated = np.tile(targets_indices, (len(input_sentences), 1, 1))\n",
        "\n",
        "  concat_indices = np.concatenate((targets_indices_repeated, input_repeated), axis=1)\n",
        "\n",
        "  model_input = tf.one_hot(concat_indices, depth =len(char_to_index), axis=-1)\n",
        "  # model predictions\n",
        "  preds = first_model.predict(model_input, batch_size=1024).reshape(len(input_sentences), targets.shape[0])\n",
        "\n",
        "  # true 0/1 predictions\n",
        "  binary_preds = np.zeros((len(input_sentences) * targets.shape[0],))\n",
        "\n",
        "  # output\n",
        "  final_targets = []\n",
        "\n",
        "  probabs = []\n",
        "\n",
        "  # get indices of the top 5 predictions\n",
        "  top_indices = np.argpartition(preds, -5)[:, -5:]\n",
        "\n",
        "  # maintain indices to get the sku from them\n",
        "  indices = []\n",
        "\n",
        "  for i in range(len(input_sentences)):\n",
        "    matched , binary = get_binary_preds(targets[top_indices[i]] , input_sentences[i], preds[i, top_indices[i]] )\n",
        "\n",
        "    # no match\n",
        "    if binary == 0:\n",
        "      final_targets.append(\"No Match\")\n",
        "\n",
        "    else:\n",
        "      final_targets.append(targets[idx])\n",
        "\n",
        "    idx = target_to_idx[matched[0]]\n",
        "\n",
        "    indices.append(idx)\n",
        "\n",
        "    binary_preds[ idx + (i * 1000)] = binary\n",
        "\n",
        "    probabs.append(matched[1])\n",
        "\n",
        "\n",
        "  output_df[\"item_name\"] = final_targets\n",
        "  output_df[\"sku\"] = target_sku[indices]\n",
        "\n",
        "  output_df.to_excel(\"output.xlsx\")\n",
        "\n",
        "  return pd.DataFrame({\n",
        "      \"Probability\": probabs,\n",
        "      \"Matched\": final_targets,\n",
        "      \"Input\":input_sentences,\n",
        "  }, index = range(len(input_sentences))) , binary_preds\n",
        "\n",
        "\n",
        "\n"
      ],
      "metadata": {
        "id": "E8failGjYquo"
      },
      "execution_count": 47,
      "outputs": []
    },
    {
      "cell_type": "code",
      "source": [
        "\n",
        "def get_binary_preds(pred_sentences, input, pred_numbers):\n",
        "  \"\"\"\n",
        "  pred_sentences: numpy array of top target 10 predicted sentences\n",
        "  input: input_sentence -> string\n",
        "  pred_numbers: the model's predictions of each name in pred_sentences\n",
        "  \"\"\"\n",
        "  if isinstance(input, (pd.DataFrame, pd.Series)):\n",
        "    input = input.values\n",
        "\n",
        "  if isinstance(pred_sentences, (pd.DataFrame, pd.Series)):\n",
        "    pred_sentences = pred_sentences.values\n",
        "\n",
        "  assert pred_sentences.ndim == 1, \"Not a numpy array\"\n",
        "\n",
        "  input = apply_regex(input)\n",
        "\n",
        "  # add spaces between numbers to make ease matching\n",
        "  pattern = r'(?<=[0-9])(?=[\\u0600-\\u06FF\\u0750-\\u077F\\u08A0-\\u08FF\\uFB50-\\uFDFF\\uFE70-\\uFEFF])|(?<=[\\u0600-\\u06FF\\u0750-\\u077F\\u08A0-\\u08FF\\uFB50-\\uFDFF\\uFE70-\\uFEFF])(?=[0-9])'\n",
        "  input = re.sub(pattern, ' ', input)\n",
        "  input = re.sub( r\"[أآإٱا]\" , \"ا\", input)\n",
        "  input = re.sub(r\"[هة]\", \"ه\", input)\n",
        "\n",
        "\n",
        "  for i in range(len(pred_sentences.copy())):\n",
        "    sent = re.sub(pattern, ' ', pred_sentences[i])\n",
        "    sent = re.sub(r\"[أآإٱا]\" , \"ا\", sent)\n",
        "    sent = re.sub(r\"[هة]\", \"ه\", sent)\n",
        "    pred_sentences[i] = sent\n",
        "\n",
        "  matches = process.extract(input, pred_sentences, scorer=fuzz.token_set_ratio, limit=5)\n",
        "\n",
        "  # if first two predictions have same probability within a margin, use another algorithm\n",
        "  # or if first two candidates are of same number of words and differ only in the number of units (which is mainly the second word in the name)\n",
        "  # use a different algorithm\n",
        "  first_match_words = matches[0][0].split()\n",
        "  sec_match_words = matches[1][0].split()\n",
        "\n",
        "\n",
        "  if (len(first_match_words) == len(sec_match_words) and first_match_words[1] != sec_match_words[1]) or matches[0][1] - matches[1][1] <= 5 :\n",
        "      matches = process.extract(input, pred_sentences, scorer=fuzz.ratio, limit=5)\n",
        "\n",
        "\n",
        "  # if same probability , use another alg\n",
        "  if matches[0][1] == matches[1][1]:\n",
        "      matches = process.extract(input, pred_sentences, scorer=fuzz.partial_ratio, limit=5)\n",
        "\n",
        "\n",
        "  fuzzy_pred = matches[0][1]\n",
        "  idx_model_pred = pred_sentences == matches[0][0]\n",
        "  model_pred = pred_numbers[idx_model_pred][0] * 100\n",
        "\n",
        "\n",
        "  fuzzy_threshold = 56\n",
        "  model_threshold = 95\n",
        "\n",
        "  if fuzzy_pred < fuzzy_threshold:\n",
        "\n",
        "    # return match with model's probability\n",
        "    if model_pred >= model_threshold:\n",
        "      return (pred_sentences[idx_model_pred][0], model_pred) , np.array(1).astype(np.float32)\n",
        "    # return not a match with fuzzy probability\n",
        "    else:\n",
        "      return (pred_sentences[idx_model_pred][0], fuzzy_pred) , np.array(0).astype(np.float32)\n",
        "\n",
        "\n",
        "  return matches[0], np.array(float(fuzzy_pred) >= fuzzy_threshold).astype(np.float32)\n",
        "\n"
      ],
      "metadata": {
        "id": "c48Lce9C6e8q"
      },
      "execution_count": 48,
      "outputs": []
    },
    {
      "cell_type": "code",
      "source": [
        "loaded_model = load_model(\"model.keras\", custom_objects={\"Model\":Model})"
      ],
      "metadata": {
        "id": "NLu18pDIV3sD"
      },
      "execution_count": 22,
      "outputs": []
    },
    {
      "cell_type": "code",
      "source": [
        "# Testing the model\n",
        "\n",
        "number_of_categ = 30\n",
        "\n",
        "start_new_categ = [0, 179, 358, 536, 714, 890, 1066, 1242, 1418, 1594, 1770, 1946, 2122, 2298, 2473, 2648, 2823, 2998, 3173, 3348, 3523, 3698, 3873, 4048, 4223, 4397, 4571, 4745, 4919, 5093, 5267, 5441, 5615, 5789, 5963, 6137, 6311, 6485, 6659, 6833, 7007, 7181, 7355, 7529, 7702, 7875, 8048, 8221, 8394, 8567, 8740, 8913, 9086, 9259, 9432, 9605, 9778, 9951, 10124, 10297, 10470, 10643, 10816, 10988, 11160, 11332, 11504, 11676, 11848, 12020, 12192, 12364, 12536, 12708, 12880, 13052, 13224, 13396, 13568, 13740, 13912, 14083, 14254, 14425, 14596, 14767, 14938, 15109, 15280, 15451, 15622, 15793, 15964, 16135, 16306, 16477, 16648, 16819, 16990, 17161, 17332, 17503, 17674, 17845, 18016, 18187, 18358, 18529, 18700, 18871, 19042, 19213, 19383, 19553, 19723, 19893, 20063, 20233, 20403, 20573, 20743, 20913, 21083, 21253, 21423, 21593, 21763, 21933, 22103, 22273, 22443, 22613, 22783, 22953, 23123, 23293, 23463, 23633, 23803, 23973, 24143, 24313, 24483, 24653, 24823, 24993, 25163, 25333, 25503, 25672, 25841, 26010, 26179, 26348, 26517, 26686, 26855, 27024, 27193, 27362, 27531, 27700, 27869, 28038, 28207, 28376, 28545, 28714, 28883, 29052, 29221, 29390, 29559, 29728, 29897, 30066, 30235, 30404, 30573, 30742, 30911, 31080, 31249, 31418, 31587, 31756, 31925, 32094, 32263, 32431, 32599, 32767, 32935, 33103, 33271, 33439, 33607, 33775, 33943, 34111, 34279, 34447, 34615, 34783, 34951, 35119, 35287, 35455, 35623, 35791, 35959, 36127, 36295, 36463, 36631, 36799, 36967, 37135, 37303, 37471, 37639, 37807, 37975, 38143, 38311, 38479, 38646, 38813, 38980, 39147, 39314, 39481, 39648, 39815, 39982, 40149, 40316, 40483, 40650, 40817, 40984, 41151, 41318, 41485, 41652, 41819, 41986, 42153, 42320, 42487, 42654, 42821, 42988, 43155, 43322, 43489, 43656, 43823, 43990, 44157, 44324, 44491, 44658, 44825, 44992, 45159, 45326, 45493, 45659, 45825, 45991, 46157, 46323, 46489, 46655, 46821, 46987, 47153, 47319, 47485, 47651, 47817, 47983, 48149, 48315, 48481, 48647, 48813, 48979, 49145, 49311, 49477, 49643, 49809, 49975, 50141, 50307, 50473, 50639, 50805, 50971, 51137, 51303, 51469, 51634, 51799, 51964, 52129, 52294, 52459, 52624, 52789, 52954, 53119, 53284, 53449, 53614, 53779, 53944, 54109, 54274, 54439, 54604, 54769, 54934, 55099, 55264, 55429, 55594, 55759, 55924, 56089, 56254, 56419, 56584, 56749, 56914, 57079, 57244, 57409, 57574, 57739, 57903, 58067, 58231, 58395, 58559, 58723, 58887, 59051, 59215, 59379, 59543, 59707, 59871, 60035, 60199, 60363, 60527, 60691, 60855, 61019, 61183, 61347, 61511, 61675, 61839, 62003, 62167, 62331, 62495, 62659, 62823, 62987, 63151, 63315, 63479, 63643, 63807, 63971, 64135, 64299, 64463, 64626, 64789, 64952, 65115, 65278, 65441, 65604, 65767, 65930, 66093, 66256, 66419, 66582, 66745, 66908, 67071, 67234, 67397, 67560, 67723, 67886, 68049, 68212, 68375, 68538, 68701, 68864, 69027, 69190, 69353, 69516, 69679, 69842, 70005, 70168, 70331, 70494, 70657, 70819, 70981, 71143, 71305, 71467, 71629, 71791, 71953, 72115, 72277, 72439, 72601, 72763, 72925, 73087, 73249, 73411, 73573, 73735, 73897, 74059, 74221, 74383, 74545, 74707, 74869, 75031, 75193, 75355, 75517, 75679, 75840, 76001, 76162, 76323, 76484, 76645, 76806, 76967, 77128, 77289, 77450, 77611, 77772, 77933, 78094, 78255, 78416, 78577, 78738, 78899, 79060, 79221, 79382, 79543, 79704, 79865, 80026, 80187, 80348, 80509, 80670, 80831, 80992, 81153, 81314, 81475, 81636, 81797, 81958, 82119, 82280, 82441, 82602, 82762, 82922, 83082, 83242, 83402]\n",
        "indices = []\n",
        "# random data points\n",
        "for i in range(number_of_categ):\n",
        "  categ = np.random.randint(0, 499)\n",
        "  indices.append(np.random.randint(start_new_categ[categ], start_new_categ[categ + 1] - 1 ))\n",
        "\n",
        "x_test_best = seller_item_name[indices].values\n",
        "\n",
        "\n",
        "y_test_best = np.zeros((len(x_test_best) * 1000,))\n",
        "\n",
        "for i in range(len(x_test_best)):\n",
        "  sku = sku_values[indices[i]]\n",
        "  index_master_file = np.where(target[\"sku\"] == sku)[0][0] + (i * 1000)\n",
        "  y_test_best[index_master_file] = 1\n",
        "\n",
        "targets =  target[\"product_name_ar\"]\n",
        "\n",
        "df, preds = get_prediction(\n",
        "               loaded_model,\n",
        "               x_test_best,\n",
        "               Tx,\n",
        "               char_to_index,\n",
        "               targets,\n",
        "               y_test_best,\n",
        "               )\n",
        "\n",
        "\n"
      ],
      "metadata": {
        "id": "HymOlQVIQ2el",
        "colab": {
          "base_uri": "https://localhost:8080/",
          "height": 211
        },
        "outputId": "53c77f15-38c3-4597-afd0-cf8c19b2a40d"
      },
      "execution_count": 49,
      "outputs": [
        {
          "output_type": "error",
          "ename": "TypeError",
          "evalue": "get_prediction() takes from 4 to 5 positional arguments but 6 were given",
          "traceback": [
            "\u001b[0;31m---------------------------------------------------------------------------\u001b[0m",
            "\u001b[0;31mTypeError\u001b[0m                                 Traceback (most recent call last)",
            "\u001b[0;32m<ipython-input-49-3c0ae22a304b>\u001b[0m in \u001b[0;36m<cell line: 0>\u001b[0;34m()\u001b[0m\n\u001b[1;32m     22\u001b[0m \u001b[0mtargets\u001b[0m \u001b[0;34m=\u001b[0m  \u001b[0mtarget\u001b[0m\u001b[0;34m[\u001b[0m\u001b[0;34m\"product_name_ar\"\u001b[0m\u001b[0;34m]\u001b[0m\u001b[0;34m\u001b[0m\u001b[0;34m\u001b[0m\u001b[0m\n\u001b[1;32m     23\u001b[0m \u001b[0;34m\u001b[0m\u001b[0m\n\u001b[0;32m---> 24\u001b[0;31m df, preds = get_prediction(\n\u001b[0m\u001b[1;32m     25\u001b[0m                \u001b[0mloaded_model\u001b[0m\u001b[0;34m,\u001b[0m\u001b[0;34m\u001b[0m\u001b[0;34m\u001b[0m\u001b[0m\n\u001b[1;32m     26\u001b[0m                \u001b[0mx_test_best\u001b[0m\u001b[0;34m,\u001b[0m\u001b[0;34m\u001b[0m\u001b[0;34m\u001b[0m\u001b[0m\n",
            "\u001b[0;31mTypeError\u001b[0m: get_prediction() takes from 4 to 5 positional arguments but 6 were given"
          ]
        }
      ]
    },
    {
      "cell_type": "code",
      "source": [
        "# got percision 0.96 and recall 0.94 on 230k\n",
        "# with model threshold 95 and fuzzy 58\n",
        "\n",
        "print(confusion_matrix(y_test_best, preds))\n",
        "print(precision_score(y_test_best, preds))\n",
        "print(recall_score(y_test_best, preds))\n",
        "print(f1_score(y_test_best, preds))"
      ],
      "metadata": {
        "id": "-hRVdq59asOj",
        "colab": {
          "base_uri": "https://localhost:8080/"
        },
        "outputId": "9e6fd8b1-9169-42e8-ff42-844badcb7893"
      },
      "execution_count": 42,
      "outputs": [
        {
          "output_type": "stream",
          "name": "stdout",
          "text": [
            "[[29969     1]\n",
            " [    1    29]]\n",
            "0.9666666666666667\n",
            "0.9666666666666667\n",
            "0.9666666666666667\n"
          ]
        }
      ]
    },
    {
      "cell_type": "code",
      "source": [
        "import math\n",
        "# FALSE POSITIVES\n",
        "indices = np.where((preds == 1)  & (y_test_best == 0) )\n",
        "\n",
        "true_indices = np.argmax(np.reshape(y_test_best, (len(x_test_best), targets.shape[0])), axis=-1)\n",
        "\n",
        "print(indices[0] / 1000)\n",
        "z = math.floor(indices[0][0] / 1000)\n",
        "\n",
        "print(x_test_best[z])\n",
        "print(df.iloc[z])\n",
        "\n",
        "print(targets[true_indices[z]])"
      ],
      "metadata": {
        "colab": {
          "base_uri": "https://localhost:8080/"
        },
        "id": "19FBvmI9KHxr",
        "outputId": "7b7df727-aa3d-4c97-e1f2-d6c469db246e"
      },
      "execution_count": 45,
      "outputs": [
        {
          "output_type": "stream",
          "name": "stdout",
          "text": [
            "[8.698]\n",
            "كارنفيتا ادفانس30كيس نساء س ج\n",
            "Probability                               72\n",
            "Matched                    كيريلا مرهم 15 جم\n",
            "Input          كارنفيتا ادفانس30كيس نساء س ج\n",
            "Name: 8, dtype: object\n",
            "كارنيفيتا ادفانس للسيدات 30 كيس\n"
          ]
        }
      ]
    },
    {
      "cell_type": "code",
      "source": [
        "# RECALL PROBLEMS\n",
        "\n",
        "indices = np.where((preds == 0)  & (y_test_best == 1) )\n",
        "\n",
        "print(indices[0] / 1000)\n",
        "z = math.floor(indices[0][0] / 1000)\n",
        "\n",
        "print(x_test_best[z])\n",
        "print(df.iloc[z])\n",
        "\n",
        "print(targets[true_indices[z]])\n"
      ],
      "metadata": {
        "colab": {
          "base_uri": "https://localhost:8080/"
        },
        "id": "QctmihX8PFRT",
        "outputId": "d15fbea8-c3b3-43c3-8730-0791cda049a1"
      },
      "execution_count": 46,
      "outputs": [
        {
          "output_type": "stream",
          "name": "stdout",
          "text": [
            "[8.48]\n",
            "كارنفيتا ادفانس30كيس نساء س ج\n",
            "Probability                               72\n",
            "Matched                    كيريلا مرهم 15 جم\n",
            "Input          كارنفيتا ادفانس30كيس نساء س ج\n",
            "Name: 8, dtype: object\n",
            "كارنيفيتا ادفانس للسيدات 30 كيس\n"
          ]
        }
      ]
    },
    {
      "cell_type": "markdown",
      "source": [
        "Problems that should be solved:\n",
        "- fuzzy predictions is not good with numbers, so\n",
        "first two or three predictions could be same probability cuz they only differ in a number"
      ],
      "metadata": {
        "id": "P8tcdE4YQ17d"
      }
    },
    {
      "cell_type": "code",
      "source": [
        "df"
      ],
      "metadata": {
        "id": "3mNn1q4CPAql",
        "colab": {
          "base_uri": "https://localhost:8080/",
          "height": 990
        },
        "outputId": "cb675e90-4a33-47f7-fd14-d6046e8e4611"
      },
      "execution_count": 43,
      "outputs": [
        {
          "output_type": "execute_result",
          "data": {
            "text/plain": [
              "    Probability                              Matched  \\\n",
              "0            96              ايموكس 500 مجم 16 كبسول   \n",
              "1            91             ريفاروسبير 10 مجم 20 قرص   \n",
              "2            95             اتوريزا 10/10 مجم 28 قرص   \n",
              "3            73                   لاسيكس 2مل 3 امبول   \n",
              "4            62              جابتن 100 مجم 30 كبسولة   \n",
              "5            59  فليكس 50 مكجم/جرعة بخاخ للانف 16 جم   \n",
              "6            83   دوسباتالين ريتارد 200 مجم 30 كبسول   \n",
              "7           100                ديبروساليك مرهم 15 جم   \n",
              "8            72                    كيريلا مرهم 15 جم   \n",
              "9            83       كارنيفيتا ادفانس للرجال 30 كيس   \n",
              "10           83     داونوبرازول 20/1100 مجم 14 كبسول   \n",
              "11           87             ديكسافلوكس قطرة عين 5 مل   \n",
              "12           74                 كوليروز 5 مجم 14 قرص   \n",
              "13           80              ميكروسيرك 16 مجم 20 قرص   \n",
              "14           70                   اليير 5 مجم 20 قرص   \n",
              "15           63               يوريكونترول 2مجم 10قرص   \n",
              "16           92               دولفين 25 مجم 10 أقماع   \n",
              "17           89                   كولوفيرين أ 30 قرص   \n",
              "18           88                    فيروترون 30 كبسول   \n",
              "19           67             ارثروفاست 150 مجم 14 قرص   \n",
              "20           65                       ميجافين 30 قرص   \n",
              "21           76                كيتولاك 10 مجم 20 قرص   \n",
              "22           87              ماكسيكال دي شراب 120 مل   \n",
              "23           67              تورسيريتك 10 مجم 30 قرص   \n",
              "24           73                   اليفو 5 مجم 20 قرص   \n",
              "25           79       كورتيبليكس ب 6 للاطفال 3 امبول   \n",
              "26           83             اتوريزا 10/10 مجم 28 قرص   \n",
              "27           60  ديسبركام 10 مجم 20 قرص قابل للذوبان   \n",
              "28           86                  اميجران ادكو 30 قرص   \n",
              "29           74         ايميرست 4 مجم / 2 مل 5 امبول   \n",
              "\n",
              "                               Input  \n",
              "0           ريفاروسبيري 10مج 20قرص #  \n",
              "1               اتوريزا 10/10 28 قرص  \n",
              "2              لاسيكس 20ملى  3امبول   \n",
              "3                جابتين 100مجم 3شريط  \n",
              "4                       فليكس سبراى   \n",
              "5      دوسبتالين  ريتارد اقراص جديد   \n",
              "6                    ديبروساليك مرهم  \n",
              "7                  كيريلا مرهم 15 جم  \n",
              "8      كارنفيتا ادفانس30كيس نساء س ج  \n",
              "9   داونوبرازول 20مجم 14 كبسول جديدد  \n",
              "10             ديكسافلوكس قطرة/جمجوم  \n",
              "11                كوليروز 5مل 14فرص   \n",
              "12   ميكروسيرك 16 مجم اقراص العامرية  \n",
              "13                 اللير 5 مجم اقراص  \n",
              "14                  يوريكنترول اقراص  \n",
              "15          دولفين  لبوس  25   ملجم   \n",
              "16               كولوفرين ايه 30 قرص  \n",
              "17                       فيروترون ق   \n",
              "18          ارثروفاست 150مجم 14/ س ج  \n",
              "19               ميجافين اقرص/راميدا  \n",
              "20                     كيتولاك اقراص  \n",
              "21            ماكسيكال شراب سعر جديد  \n",
              "22          تورسيريتك 10 مجم 3 شريط   \n",
              "23                 اليفو اقراص 2شريط  \n",
              "24          كورتيبلكس ب6 امبول اطفال  \n",
              "25              اتوريزا  10/10 اقراص  \n",
              "26             ديسبركام 10 مجم اقراص  \n",
              "27             اميجران اقراص العربيه  \n",
              "28           ايمريست 4مل/2مل 5امبوله  \n",
              "29               تيبونينا فورت اقراص  "
            ],
            "text/html": [
              "\n",
              "  <div id=\"df-b68e8cb7-ef4a-4ded-b567-f51e22dac798\" class=\"colab-df-container\">\n",
              "    <div>\n",
              "<style scoped>\n",
              "    .dataframe tbody tr th:only-of-type {\n",
              "        vertical-align: middle;\n",
              "    }\n",
              "\n",
              "    .dataframe tbody tr th {\n",
              "        vertical-align: top;\n",
              "    }\n",
              "\n",
              "    .dataframe thead th {\n",
              "        text-align: right;\n",
              "    }\n",
              "</style>\n",
              "<table border=\"1\" class=\"dataframe\">\n",
              "  <thead>\n",
              "    <tr style=\"text-align: right;\">\n",
              "      <th></th>\n",
              "      <th>Probability</th>\n",
              "      <th>Matched</th>\n",
              "      <th>Input</th>\n",
              "    </tr>\n",
              "  </thead>\n",
              "  <tbody>\n",
              "    <tr>\n",
              "      <th>0</th>\n",
              "      <td>96</td>\n",
              "      <td>ايموكس 500 مجم 16 كبسول</td>\n",
              "      <td>ريفاروسبيري 10مج 20قرص #</td>\n",
              "    </tr>\n",
              "    <tr>\n",
              "      <th>1</th>\n",
              "      <td>91</td>\n",
              "      <td>ريفاروسبير 10 مجم 20 قرص</td>\n",
              "      <td>اتوريزا 10/10 28 قرص</td>\n",
              "    </tr>\n",
              "    <tr>\n",
              "      <th>2</th>\n",
              "      <td>95</td>\n",
              "      <td>اتوريزا 10/10 مجم 28 قرص</td>\n",
              "      <td>لاسيكس 20ملى  3امبول</td>\n",
              "    </tr>\n",
              "    <tr>\n",
              "      <th>3</th>\n",
              "      <td>73</td>\n",
              "      <td>لاسيكس 2مل 3 امبول</td>\n",
              "      <td>جابتين 100مجم 3شريط</td>\n",
              "    </tr>\n",
              "    <tr>\n",
              "      <th>4</th>\n",
              "      <td>62</td>\n",
              "      <td>جابتن 100 مجم 30 كبسولة</td>\n",
              "      <td>فليكس سبراى</td>\n",
              "    </tr>\n",
              "    <tr>\n",
              "      <th>5</th>\n",
              "      <td>59</td>\n",
              "      <td>فليكس 50 مكجم/جرعة بخاخ للانف 16 جم</td>\n",
              "      <td>دوسبتالين  ريتارد اقراص جديد</td>\n",
              "    </tr>\n",
              "    <tr>\n",
              "      <th>6</th>\n",
              "      <td>83</td>\n",
              "      <td>دوسباتالين ريتارد 200 مجم 30 كبسول</td>\n",
              "      <td>ديبروساليك مرهم</td>\n",
              "    </tr>\n",
              "    <tr>\n",
              "      <th>7</th>\n",
              "      <td>100</td>\n",
              "      <td>ديبروساليك مرهم 15 جم</td>\n",
              "      <td>كيريلا مرهم 15 جم</td>\n",
              "    </tr>\n",
              "    <tr>\n",
              "      <th>8</th>\n",
              "      <td>72</td>\n",
              "      <td>كيريلا مرهم 15 جم</td>\n",
              "      <td>كارنفيتا ادفانس30كيس نساء س ج</td>\n",
              "    </tr>\n",
              "    <tr>\n",
              "      <th>9</th>\n",
              "      <td>83</td>\n",
              "      <td>كارنيفيتا ادفانس للرجال 30 كيس</td>\n",
              "      <td>داونوبرازول 20مجم 14 كبسول جديدد</td>\n",
              "    </tr>\n",
              "    <tr>\n",
              "      <th>10</th>\n",
              "      <td>83</td>\n",
              "      <td>داونوبرازول 20/1100 مجم 14 كبسول</td>\n",
              "      <td>ديكسافلوكس قطرة/جمجوم</td>\n",
              "    </tr>\n",
              "    <tr>\n",
              "      <th>11</th>\n",
              "      <td>87</td>\n",
              "      <td>ديكسافلوكس قطرة عين 5 مل</td>\n",
              "      <td>كوليروز 5مل 14فرص</td>\n",
              "    </tr>\n",
              "    <tr>\n",
              "      <th>12</th>\n",
              "      <td>74</td>\n",
              "      <td>كوليروز 5 مجم 14 قرص</td>\n",
              "      <td>ميكروسيرك 16 مجم اقراص العامرية</td>\n",
              "    </tr>\n",
              "    <tr>\n",
              "      <th>13</th>\n",
              "      <td>80</td>\n",
              "      <td>ميكروسيرك 16 مجم 20 قرص</td>\n",
              "      <td>اللير 5 مجم اقراص</td>\n",
              "    </tr>\n",
              "    <tr>\n",
              "      <th>14</th>\n",
              "      <td>70</td>\n",
              "      <td>اليير 5 مجم 20 قرص</td>\n",
              "      <td>يوريكنترول اقراص</td>\n",
              "    </tr>\n",
              "    <tr>\n",
              "      <th>15</th>\n",
              "      <td>63</td>\n",
              "      <td>يوريكونترول 2مجم 10قرص</td>\n",
              "      <td>دولفين  لبوس  25   ملجم</td>\n",
              "    </tr>\n",
              "    <tr>\n",
              "      <th>16</th>\n",
              "      <td>92</td>\n",
              "      <td>دولفين 25 مجم 10 أقماع</td>\n",
              "      <td>كولوفرين ايه 30 قرص</td>\n",
              "    </tr>\n",
              "    <tr>\n",
              "      <th>17</th>\n",
              "      <td>89</td>\n",
              "      <td>كولوفيرين أ 30 قرص</td>\n",
              "      <td>فيروترون ق</td>\n",
              "    </tr>\n",
              "    <tr>\n",
              "      <th>18</th>\n",
              "      <td>88</td>\n",
              "      <td>فيروترون 30 كبسول</td>\n",
              "      <td>ارثروفاست 150مجم 14/ س ج</td>\n",
              "    </tr>\n",
              "    <tr>\n",
              "      <th>19</th>\n",
              "      <td>67</td>\n",
              "      <td>ارثروفاست 150 مجم 14 قرص</td>\n",
              "      <td>ميجافين اقرص/راميدا</td>\n",
              "    </tr>\n",
              "    <tr>\n",
              "      <th>20</th>\n",
              "      <td>65</td>\n",
              "      <td>ميجافين 30 قرص</td>\n",
              "      <td>كيتولاك اقراص</td>\n",
              "    </tr>\n",
              "    <tr>\n",
              "      <th>21</th>\n",
              "      <td>76</td>\n",
              "      <td>كيتولاك 10 مجم 20 قرص</td>\n",
              "      <td>ماكسيكال شراب سعر جديد</td>\n",
              "    </tr>\n",
              "    <tr>\n",
              "      <th>22</th>\n",
              "      <td>87</td>\n",
              "      <td>ماكسيكال دي شراب 120 مل</td>\n",
              "      <td>تورسيريتك 10 مجم 3 شريط</td>\n",
              "    </tr>\n",
              "    <tr>\n",
              "      <th>23</th>\n",
              "      <td>67</td>\n",
              "      <td>تورسيريتك 10 مجم 30 قرص</td>\n",
              "      <td>اليفو اقراص 2شريط</td>\n",
              "    </tr>\n",
              "    <tr>\n",
              "      <th>24</th>\n",
              "      <td>73</td>\n",
              "      <td>اليفو 5 مجم 20 قرص</td>\n",
              "      <td>كورتيبلكس ب6 امبول اطفال</td>\n",
              "    </tr>\n",
              "    <tr>\n",
              "      <th>25</th>\n",
              "      <td>79</td>\n",
              "      <td>كورتيبليكس ب 6 للاطفال 3 امبول</td>\n",
              "      <td>اتوريزا  10/10 اقراص</td>\n",
              "    </tr>\n",
              "    <tr>\n",
              "      <th>26</th>\n",
              "      <td>83</td>\n",
              "      <td>اتوريزا 10/10 مجم 28 قرص</td>\n",
              "      <td>ديسبركام 10 مجم اقراص</td>\n",
              "    </tr>\n",
              "    <tr>\n",
              "      <th>27</th>\n",
              "      <td>60</td>\n",
              "      <td>ديسبركام 10 مجم 20 قرص قابل للذوبان</td>\n",
              "      <td>اميجران اقراص العربيه</td>\n",
              "    </tr>\n",
              "    <tr>\n",
              "      <th>28</th>\n",
              "      <td>86</td>\n",
              "      <td>اميجران ادكو 30 قرص</td>\n",
              "      <td>ايمريست 4مل/2مل 5امبوله</td>\n",
              "    </tr>\n",
              "    <tr>\n",
              "      <th>29</th>\n",
              "      <td>74</td>\n",
              "      <td>ايميرست 4 مجم / 2 مل 5 امبول</td>\n",
              "      <td>تيبونينا فورت اقراص</td>\n",
              "    </tr>\n",
              "  </tbody>\n",
              "</table>\n",
              "</div>\n",
              "    <div class=\"colab-df-buttons\">\n",
              "\n",
              "  <div class=\"colab-df-container\">\n",
              "    <button class=\"colab-df-convert\" onclick=\"convertToInteractive('df-b68e8cb7-ef4a-4ded-b567-f51e22dac798')\"\n",
              "            title=\"Convert this dataframe to an interactive table.\"\n",
              "            style=\"display:none;\">\n",
              "\n",
              "  <svg xmlns=\"http://www.w3.org/2000/svg\" height=\"24px\" viewBox=\"0 -960 960 960\">\n",
              "    <path d=\"M120-120v-720h720v720H120Zm60-500h600v-160H180v160Zm220 220h160v-160H400v160Zm0 220h160v-160H400v160ZM180-400h160v-160H180v160Zm440 0h160v-160H620v160ZM180-180h160v-160H180v160Zm440 0h160v-160H620v160Z\"/>\n",
              "  </svg>\n",
              "    </button>\n",
              "\n",
              "  <style>\n",
              "    .colab-df-container {\n",
              "      display:flex;\n",
              "      gap: 12px;\n",
              "    }\n",
              "\n",
              "    .colab-df-convert {\n",
              "      background-color: #E8F0FE;\n",
              "      border: none;\n",
              "      border-radius: 50%;\n",
              "      cursor: pointer;\n",
              "      display: none;\n",
              "      fill: #1967D2;\n",
              "      height: 32px;\n",
              "      padding: 0 0 0 0;\n",
              "      width: 32px;\n",
              "    }\n",
              "\n",
              "    .colab-df-convert:hover {\n",
              "      background-color: #E2EBFA;\n",
              "      box-shadow: 0px 1px 2px rgba(60, 64, 67, 0.3), 0px 1px 3px 1px rgba(60, 64, 67, 0.15);\n",
              "      fill: #174EA6;\n",
              "    }\n",
              "\n",
              "    .colab-df-buttons div {\n",
              "      margin-bottom: 4px;\n",
              "    }\n",
              "\n",
              "    [theme=dark] .colab-df-convert {\n",
              "      background-color: #3B4455;\n",
              "      fill: #D2E3FC;\n",
              "    }\n",
              "\n",
              "    [theme=dark] .colab-df-convert:hover {\n",
              "      background-color: #434B5C;\n",
              "      box-shadow: 0px 1px 3px 1px rgba(0, 0, 0, 0.15);\n",
              "      filter: drop-shadow(0px 1px 2px rgba(0, 0, 0, 0.3));\n",
              "      fill: #FFFFFF;\n",
              "    }\n",
              "  </style>\n",
              "\n",
              "    <script>\n",
              "      const buttonEl =\n",
              "        document.querySelector('#df-b68e8cb7-ef4a-4ded-b567-f51e22dac798 button.colab-df-convert');\n",
              "      buttonEl.style.display =\n",
              "        google.colab.kernel.accessAllowed ? 'block' : 'none';\n",
              "\n",
              "      async function convertToInteractive(key) {\n",
              "        const element = document.querySelector('#df-b68e8cb7-ef4a-4ded-b567-f51e22dac798');\n",
              "        const dataTable =\n",
              "          await google.colab.kernel.invokeFunction('convertToInteractive',\n",
              "                                                    [key], {});\n",
              "        if (!dataTable) return;\n",
              "\n",
              "        const docLinkHtml = 'Like what you see? Visit the ' +\n",
              "          '<a target=\"_blank\" href=https://colab.research.google.com/notebooks/data_table.ipynb>data table notebook</a>'\n",
              "          + ' to learn more about interactive tables.';\n",
              "        element.innerHTML = '';\n",
              "        dataTable['output_type'] = 'display_data';\n",
              "        await google.colab.output.renderOutput(dataTable, element);\n",
              "        const docLink = document.createElement('div');\n",
              "        docLink.innerHTML = docLinkHtml;\n",
              "        element.appendChild(docLink);\n",
              "      }\n",
              "    </script>\n",
              "  </div>\n",
              "\n",
              "\n",
              "<div id=\"df-802b6a54-d56b-4389-a852-3f7c107f352f\">\n",
              "  <button class=\"colab-df-quickchart\" onclick=\"quickchart('df-802b6a54-d56b-4389-a852-3f7c107f352f')\"\n",
              "            title=\"Suggest charts\"\n",
              "            style=\"display:none;\">\n",
              "\n",
              "<svg xmlns=\"http://www.w3.org/2000/svg\" height=\"24px\"viewBox=\"0 0 24 24\"\n",
              "     width=\"24px\">\n",
              "    <g>\n",
              "        <path d=\"M19 3H5c-1.1 0-2 .9-2 2v14c0 1.1.9 2 2 2h14c1.1 0 2-.9 2-2V5c0-1.1-.9-2-2-2zM9 17H7v-7h2v7zm4 0h-2V7h2v10zm4 0h-2v-4h2v4z\"/>\n",
              "    </g>\n",
              "</svg>\n",
              "  </button>\n",
              "\n",
              "<style>\n",
              "  .colab-df-quickchart {\n",
              "      --bg-color: #E8F0FE;\n",
              "      --fill-color: #1967D2;\n",
              "      --hover-bg-color: #E2EBFA;\n",
              "      --hover-fill-color: #174EA6;\n",
              "      --disabled-fill-color: #AAA;\n",
              "      --disabled-bg-color: #DDD;\n",
              "  }\n",
              "\n",
              "  [theme=dark] .colab-df-quickchart {\n",
              "      --bg-color: #3B4455;\n",
              "      --fill-color: #D2E3FC;\n",
              "      --hover-bg-color: #434B5C;\n",
              "      --hover-fill-color: #FFFFFF;\n",
              "      --disabled-bg-color: #3B4455;\n",
              "      --disabled-fill-color: #666;\n",
              "  }\n",
              "\n",
              "  .colab-df-quickchart {\n",
              "    background-color: var(--bg-color);\n",
              "    border: none;\n",
              "    border-radius: 50%;\n",
              "    cursor: pointer;\n",
              "    display: none;\n",
              "    fill: var(--fill-color);\n",
              "    height: 32px;\n",
              "    padding: 0;\n",
              "    width: 32px;\n",
              "  }\n",
              "\n",
              "  .colab-df-quickchart:hover {\n",
              "    background-color: var(--hover-bg-color);\n",
              "    box-shadow: 0 1px 2px rgba(60, 64, 67, 0.3), 0 1px 3px 1px rgba(60, 64, 67, 0.15);\n",
              "    fill: var(--button-hover-fill-color);\n",
              "  }\n",
              "\n",
              "  .colab-df-quickchart-complete:disabled,\n",
              "  .colab-df-quickchart-complete:disabled:hover {\n",
              "    background-color: var(--disabled-bg-color);\n",
              "    fill: var(--disabled-fill-color);\n",
              "    box-shadow: none;\n",
              "  }\n",
              "\n",
              "  .colab-df-spinner {\n",
              "    border: 2px solid var(--fill-color);\n",
              "    border-color: transparent;\n",
              "    border-bottom-color: var(--fill-color);\n",
              "    animation:\n",
              "      spin 1s steps(1) infinite;\n",
              "  }\n",
              "\n",
              "  @keyframes spin {\n",
              "    0% {\n",
              "      border-color: transparent;\n",
              "      border-bottom-color: var(--fill-color);\n",
              "      border-left-color: var(--fill-color);\n",
              "    }\n",
              "    20% {\n",
              "      border-color: transparent;\n",
              "      border-left-color: var(--fill-color);\n",
              "      border-top-color: var(--fill-color);\n",
              "    }\n",
              "    30% {\n",
              "      border-color: transparent;\n",
              "      border-left-color: var(--fill-color);\n",
              "      border-top-color: var(--fill-color);\n",
              "      border-right-color: var(--fill-color);\n",
              "    }\n",
              "    40% {\n",
              "      border-color: transparent;\n",
              "      border-right-color: var(--fill-color);\n",
              "      border-top-color: var(--fill-color);\n",
              "    }\n",
              "    60% {\n",
              "      border-color: transparent;\n",
              "      border-right-color: var(--fill-color);\n",
              "    }\n",
              "    80% {\n",
              "      border-color: transparent;\n",
              "      border-right-color: var(--fill-color);\n",
              "      border-bottom-color: var(--fill-color);\n",
              "    }\n",
              "    90% {\n",
              "      border-color: transparent;\n",
              "      border-bottom-color: var(--fill-color);\n",
              "    }\n",
              "  }\n",
              "</style>\n",
              "\n",
              "  <script>\n",
              "    async function quickchart(key) {\n",
              "      const quickchartButtonEl =\n",
              "        document.querySelector('#' + key + ' button');\n",
              "      quickchartButtonEl.disabled = true;  // To prevent multiple clicks.\n",
              "      quickchartButtonEl.classList.add('colab-df-spinner');\n",
              "      try {\n",
              "        const charts = await google.colab.kernel.invokeFunction(\n",
              "            'suggestCharts', [key], {});\n",
              "      } catch (error) {\n",
              "        console.error('Error during call to suggestCharts:', error);\n",
              "      }\n",
              "      quickchartButtonEl.classList.remove('colab-df-spinner');\n",
              "      quickchartButtonEl.classList.add('colab-df-quickchart-complete');\n",
              "    }\n",
              "    (() => {\n",
              "      let quickchartButtonEl =\n",
              "        document.querySelector('#df-802b6a54-d56b-4389-a852-3f7c107f352f button');\n",
              "      quickchartButtonEl.style.display =\n",
              "        google.colab.kernel.accessAllowed ? 'block' : 'none';\n",
              "    })();\n",
              "  </script>\n",
              "</div>\n",
              "\n",
              "  <div id=\"id_b8bdde95-4f37-447d-b065-1227db967763\">\n",
              "    <style>\n",
              "      .colab-df-generate {\n",
              "        background-color: #E8F0FE;\n",
              "        border: none;\n",
              "        border-radius: 50%;\n",
              "        cursor: pointer;\n",
              "        display: none;\n",
              "        fill: #1967D2;\n",
              "        height: 32px;\n",
              "        padding: 0 0 0 0;\n",
              "        width: 32px;\n",
              "      }\n",
              "\n",
              "      .colab-df-generate:hover {\n",
              "        background-color: #E2EBFA;\n",
              "        box-shadow: 0px 1px 2px rgba(60, 64, 67, 0.3), 0px 1px 3px 1px rgba(60, 64, 67, 0.15);\n",
              "        fill: #174EA6;\n",
              "      }\n",
              "\n",
              "      [theme=dark] .colab-df-generate {\n",
              "        background-color: #3B4455;\n",
              "        fill: #D2E3FC;\n",
              "      }\n",
              "\n",
              "      [theme=dark] .colab-df-generate:hover {\n",
              "        background-color: #434B5C;\n",
              "        box-shadow: 0px 1px 3px 1px rgba(0, 0, 0, 0.15);\n",
              "        filter: drop-shadow(0px 1px 2px rgba(0, 0, 0, 0.3));\n",
              "        fill: #FFFFFF;\n",
              "      }\n",
              "    </style>\n",
              "    <button class=\"colab-df-generate\" onclick=\"generateWithVariable('df')\"\n",
              "            title=\"Generate code using this dataframe.\"\n",
              "            style=\"display:none;\">\n",
              "\n",
              "  <svg xmlns=\"http://www.w3.org/2000/svg\" height=\"24px\"viewBox=\"0 0 24 24\"\n",
              "       width=\"24px\">\n",
              "    <path d=\"M7,19H8.4L18.45,9,17,7.55,7,17.6ZM5,21V16.75L18.45,3.32a2,2,0,0,1,2.83,0l1.4,1.43a1.91,1.91,0,0,1,.58,1.4,1.91,1.91,0,0,1-.58,1.4L9.25,21ZM18.45,9,17,7.55Zm-12,3A5.31,5.31,0,0,0,4.9,8.1,5.31,5.31,0,0,0,1,6.5,5.31,5.31,0,0,0,4.9,4.9,5.31,5.31,0,0,0,6.5,1,5.31,5.31,0,0,0,8.1,4.9,5.31,5.31,0,0,0,12,6.5,5.46,5.46,0,0,0,6.5,12Z\"/>\n",
              "  </svg>\n",
              "    </button>\n",
              "    <script>\n",
              "      (() => {\n",
              "      const buttonEl =\n",
              "        document.querySelector('#id_b8bdde95-4f37-447d-b065-1227db967763 button.colab-df-generate');\n",
              "      buttonEl.style.display =\n",
              "        google.colab.kernel.accessAllowed ? 'block' : 'none';\n",
              "\n",
              "      buttonEl.onclick = () => {\n",
              "        google.colab.notebook.generateWithVariable('df');\n",
              "      }\n",
              "      })();\n",
              "    </script>\n",
              "  </div>\n",
              "\n",
              "    </div>\n",
              "  </div>\n"
            ],
            "application/vnd.google.colaboratory.intrinsic+json": {
              "type": "dataframe",
              "variable_name": "df",
              "summary": "{\n  \"name\": \"df\",\n  \"rows\": 30,\n  \"fields\": [\n    {\n      \"column\": \"Probability\",\n      \"properties\": {\n        \"dtype\": \"number\",\n        \"std\": 11,\n        \"min\": 59,\n        \"max\": 100,\n        \"num_unique_values\": 23,\n        \"samples\": [\n          89,\n          87,\n          96\n        ],\n        \"semantic_type\": \"\",\n        \"description\": \"\"\n      }\n    },\n    {\n      \"column\": \"Matched\",\n      \"properties\": {\n        \"dtype\": \"string\",\n        \"num_unique_values\": 29,\n        \"samples\": [\n          \"\\u0627\\u0645\\u064a\\u062c\\u0631\\u0627\\u0646 \\u0627\\u062f\\u0643\\u0648 30 \\u0642\\u0631\\u0635\",\n          \"\\u062f\\u0648\\u0644\\u0641\\u064a\\u0646 25 \\u0645\\u062c\\u0645 10 \\u0623\\u0642\\u0645\\u0627\\u0639\",\n          \"\\u0643\\u0648\\u0644\\u064a\\u0631\\u0648\\u0632 5 \\u0645\\u062c\\u0645 14 \\u0642\\u0631\\u0635\"\n        ],\n        \"semantic_type\": \"\",\n        \"description\": \"\"\n      }\n    },\n    {\n      \"column\": \"Input\",\n      \"properties\": {\n        \"dtype\": \"string\",\n        \"num_unique_values\": 30,\n        \"samples\": [\n          \"\\u0627\\u0645\\u064a\\u062c\\u0631\\u0627\\u0646 \\u0627\\u0642\\u0631\\u0627\\u0635 \\u0627\\u0644\\u0639\\u0631\\u0628\\u064a\\u0647\",\n          \"\\u062f\\u0648\\u0644\\u0641\\u064a\\u0646  \\u0644\\u0628\\u0648\\u0633  25   \\u0645\\u0644\\u062c\\u0645 \",\n          \"\\u0627\\u0644\\u064a\\u0641\\u0648 \\u0627\\u0642\\u0631\\u0627\\u0635 2\\u0634\\u0631\\u064a\\u0637\"\n        ],\n        \"semantic_type\": \"\",\n        \"description\": \"\"\n      }\n    }\n  ]\n}"
            }
          },
          "metadata": {},
          "execution_count": 43
        }
      ]
    },
    {
      "cell_type": "markdown",
      "source": [
        "- **If the model classifies a match as similar, it is right 96% of the time.**\n",
        "- **The model correctly classifies 96% of all similar matches.**\n"
      ],
      "metadata": {
        "id": "Tq5mEQaVQhhJ"
      }
    },
    {
      "cell_type": "code",
      "source": [],
      "metadata": {
        "id": "U6VF4pq_1ySe"
      },
      "execution_count": null,
      "outputs": []
    }
  ],
  "metadata": {
    "colab": {
      "provenance": []
    },
    "kernelspec": {
      "display_name": "Python 3",
      "name": "python3"
    },
    "language_info": {
      "name": "python"
    }
  },
  "nbformat": 4,
  "nbformat_minor": 0
}