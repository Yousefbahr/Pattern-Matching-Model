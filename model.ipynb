{
  "cells": [
    {
      "cell_type": "code",
      "execution_count": 122,
      "metadata": {
        "id": "IRGSrsnM0X4F"
      },
      "outputs": [],
      "source": [
        "import numpy as np\n",
        "import pandas as pd\n",
        "import matplotlib.pyplot as plt\n",
        "import re\n",
        "import tensorflow as tf\n",
        "from sklearn.model_selection import train_test_split\n",
        "from sklearn.metrics import accuracy_score\n",
        "from tensorflow.keras.layers import Bidirectional, Concatenate, Permute, Dot, Input, LSTM, Multiply, Softmax, Reshape, Embedding\n",
        "from tensorflow.keras.layers import RepeatVector, Dense, Activation, Lambda, Masking, Dropout\n",
        "from tensorflow.keras.optimizers import Adam\n",
        "from tensorflow.keras.utils import to_categorical\n",
        "from tensorflow.keras.models import load_model, Model"
      ]
    },
    {
      "cell_type": "code",
      "execution_count": 123,
      "metadata": {
        "id": "UurBmM5z0pd_"
      },
      "outputs": [],
      "source": [
        "# sku 307 is not in the dataset file\n",
        "data = pd.read_excel(\"data.xlsx\", sheet_name=\"Dataset\")\n",
        "target = pd.read_excel(\"data.xlsx\", sheet_name=\"Master File\")"
      ]
    },
    {
      "cell_type": "code",
      "execution_count": 124,
      "metadata": {
        "colab": {
          "base_uri": "https://localhost:8080/"
        },
        "id": "Vp6CPzsK0qhQ",
        "outputId": "49fcad6f-fcb4-46d6-c56c-e53e64d4cfef"
      },
      "outputs": [
        {
          "output_type": "stream",
          "name": "stdout",
          "text": [
            "<class 'pandas.core.frame.DataFrame'>\n",
            "RangeIndex: 83562 entries, 0 to 83561\n",
            "Data columns (total 4 columns):\n",
            " #   Column                       Non-Null Count  Dtype  \n",
            "---  ------                       --------------  -----  \n",
            " 0   sku                          83562 non-null  int64  \n",
            " 1   marketplace_product_name_ar  83562 non-null  object \n",
            " 2   seller_item_name             83562 non-null  object \n",
            " 3   price                        83562 non-null  float64\n",
            "dtypes: float64(1), int64(1), object(2)\n",
            "memory usage: 2.6+ MB\n",
            "None\n"
          ]
        }
      ],
      "source": [
        "print(data.info())"
      ]
    },
    {
      "cell_type": "code",
      "execution_count": 125,
      "metadata": {
        "id": "yfuz-c1L0q0K"
      },
      "outputs": [],
      "source": [
        "seller_item_name = data[\"seller_item_name\"]\n",
        "sku_values = data[\"sku\"]\n"
      ]
    },
    {
      "cell_type": "code",
      "execution_count": 126,
      "metadata": {
        "colab": {
          "base_uri": "https://localhost:8080/",
          "height": 465
        },
        "id": "uxH49vJgCJqz",
        "outputId": "810942f1-a2d4-49af-941f-98a5cb125e5d"
      },
      "outputs": [
        {
          "output_type": "stream",
          "name": "stdout",
          "text": [
            "4171\n",
            "41606\n"
          ]
        },
        {
          "output_type": "display_data",
          "data": {
            "text/plain": [
              "<Figure size 640x480 with 1 Axes>"
            ],
            "image/png": "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\n"
          },
          "metadata": {}
        }
      ],
      "source": [
        "# the input sequence will be 30\n",
        "\n",
        "lengths = np.array([len(sen) for sen in seller_item_name])\n",
        "\n",
        "print(np.sum(lengths > 30))\n",
        "\n",
        "print(np.sum(lengths > 20))\n",
        "\n",
        "plt.hist(lengths, bins=12)\n",
        "\n",
        "Tx = 30"
      ]
    },
    {
      "cell_type": "code",
      "execution_count": 127,
      "metadata": {
        "colab": {
          "base_uri": "https://localhost:8080/"
        },
        "id": "aWy87F4aK5Y2",
        "outputId": "6b8c4381-85d2-4efb-a41f-0abfd3debceb"
      },
      "outputs": [
        {
          "output_type": "stream",
          "name": "stdout",
          "text": [
            "بولي فريش اكسترا قطرة عين احادي الجرعة 30 * 0.4 مل\n"
          ]
        }
      ],
      "source": [
        "arabic_char = list(\"اﻷإﻹأآءئبتثجحخدذرزسشصضطظعغفقكلمنهويىة\")\n",
        "english_char = list(\"abcdefghijklmnopqrstuvwxyz\")\n",
        "symbols = list(\".%/\")\n",
        "numbers = [str(num) for num in range(10)]\n",
        "# arabic + symbols + english + numbers\n",
        "\n",
        "# mapping characters to indices\n",
        "index_to_char = {}\n",
        "char_to_index = {}\n",
        "for i, char in enumerate(arabic_char + symbols + english_char + numbers):\n",
        "  index_to_char.update({i: char })\n",
        "  char_to_index.update({char: i})\n",
        "\n",
        "vocab_size = len(index_to_char)\n",
        "print(max(seller_item_name, key=len))\n"
      ]
    },
    {
      "cell_type": "code",
      "source": [
        "def pre_process_strings(x, Tx, char_to_index, pad_value= -1):\n",
        "  \"\"\"\n",
        "  x: list of strings\n",
        "  Tx: sequence length\n",
        "  char_to_index: a dict mapping characters to indices\n",
        "  pad_value : the value to use in padding\n",
        "\n",
        "  Processes a list of strings by applying regex then mapping the chars to indices\n",
        "\n",
        "  Returns:\n",
        "    indices: shape(x.shape[0], Tx)\n",
        "  \"\"\"\n",
        "\n",
        "  for i, sentence in enumerate(x.copy()):\n",
        "    # remove unwanted symbols\n",
        "    new = re.sub(r\"[^a-zA-Z0-9%\\.\\u0600-\\u06FF\\s]\", \" \", sentence)\n",
        "    # remove tatweel symbol\n",
        "    new = re.sub(r\"\\u0640\", \"\" , new)\n",
        "    # remove tashkeel\n",
        "    new = re.sub(r\"[\\u064B-\\u0652]\", \"\", new)\n",
        "    # remove arabic punctuation\n",
        "    new = re.sub(r\"[،؛؟“”‘’•]\", \"\", new)\n",
        "    # remove extra spaces\n",
        "    new = re.sub(r\"^\\s+|\\s+$|\\s{2,}\", \" \", new).strip()\n",
        "    new = re.sub(r\"^\\s+\", \" \", new)\n",
        "    x[i] = new\n",
        "\n",
        "\n",
        "  indices = np.full((len(x), Tx), pad_value)\n",
        "  for i, sentence in enumerate(x):\n",
        "    chars = list(sentence)\n",
        "    for j, char in enumerate(chars):\n",
        "      char = char.lower()\n",
        "      # remove whitespace\n",
        "      if char == ' ':\n",
        "        continue\n",
        "      if j < Tx:\n",
        "        if char in char_to_index:\n",
        "          indices[i, j] = char_to_index[char]\n",
        "\n",
        "\n",
        "  return indices\n",
        "\n"
      ],
      "metadata": {
        "id": "CqMBAN-vaZPT"
      },
      "execution_count": 128,
      "outputs": []
    },
    {
      "cell_type": "code",
      "source": [
        "def pre_process_dataset_training(X, Y,Tx, char_to_index, unique_classes = 500, num_pos_neg = 130):\n",
        "  \"\"\"\n",
        "  X: array of input strings (samples) of shape(m,) | where m is number of samples\n",
        "  Y: array of target strings of shape (m,) | where m is number of samples\n",
        "  sku: array of sku of shape (m,)\n",
        "  Tx: sequence length\n",
        "  num_pos_neg: is the number of positive and negative samples for each sample\n",
        "  char_to_index: a dict mapping all characters in vocab to their indices (0 to vocab_size)\n",
        "  unique_classes: number of unqiue classes in the dataset\n",
        "\n",
        "  returns 80 positve and negative samples for each sample\n",
        "  for negative samples randomly choose another class\n",
        "\n",
        "  new_X: shape(n, 2, Tx)\n",
        "  new_y: shape(n,)\n",
        "  n is the new number of samples , which could be different that the original (m)\n",
        "  n = num_pos_neg * unique_classes\n",
        "  \"\"\"\n",
        "\n",
        "  X = X.copy()\n",
        "  Y = Y.copy()\n",
        "\n",
        "  # -1 for padded values\n",
        "  indices_X = pre_process_strings(X, Tx, char_to_index)\n",
        "  indices_y = pre_process_strings(Y, Tx, char_to_index)\n",
        "\n",
        "  start_new_category = []\n",
        "  for i, sentence in enumerate(Y):\n",
        "    # maintain the starting index of a new category\n",
        "    if i == 0:\n",
        "      start_new_category.append(i)\n",
        "    else:\n",
        "      if Y[i] != Y[i - 1]:\n",
        "        start_new_category.append(i)\n",
        "\n",
        "\n",
        "  # make positive and negative samples\n",
        "  n = (num_pos_neg * 2 * unique_classes)\n",
        "  new_X = np.zeros((n, 2, Tx))\n",
        "  new_y = np.full((n,), -1)\n",
        "  j = 0\n",
        "  i = 0\n",
        "  count = 0\n",
        "  while(True):\n",
        "\n",
        "    if count == n:\n",
        "      break\n",
        "\n",
        "    if count % (num_pos_neg * 2) == 0 and count != 0:\n",
        "      j += 1\n",
        "      if j == len(start_new_category) - 1:\n",
        "        break\n",
        "      i = start_new_category[j]\n",
        "\n",
        "    new_X[count, 0, :] = indices_X[i, :]\n",
        "    new_X[count, 1, :] = indices_y[i, :]\n",
        "    new_y[count] = 1\n",
        "\n",
        "    # random index for negative samples (not similar)\n",
        "    rand_index = np.random.randint(low= 0, high= X.shape[0], size=1)[0]\n",
        "    # if the random index is the same category as current category, get another index\n",
        "    while np.array_equal(indices_y[rand_index, :], indices_y[i, :]):\n",
        "      rand_index = np.random.randint(low= 0, high= X.shape[0], size=1)[0]\n",
        "\n",
        "    new_X[count + 1, 0, :] = indices_X[i + 1, :]\n",
        "    new_X[count + 1, 1, :] = indices_y[rand_index, :]\n",
        "    new_y[count + 1] = 0\n",
        "\n",
        "    i += 1\n",
        "    count += 2\n",
        "\n",
        "  return new_X, new_y"
      ],
      "metadata": {
        "id": "NGpeMZKJJkVz"
      },
      "execution_count": 129,
      "outputs": []
    },
    {
      "cell_type": "code",
      "source": [
        "def pre_process_input(sentence1, sentence2, Tx, char_to_index):\n",
        "  \"\"\"\n",
        "  sentence1: string\n",
        "  sentence2: string\n",
        "  Tx: sequence length\n",
        "  char_to_index: a dict mapping all characters in vocab to their indices (0 to vocab_size)\n",
        "\n",
        "  Returns:\n",
        "    x: shape(1, 2, Tx, len(char_to_index)) , an input ready for prediction\n",
        "  \"\"\"\n",
        "\n",
        "  sentences = [sentence1, sentence2]\n",
        "  x = pre_process_strings(sentences, Tx, char_to_index)[np.newaxis, ...]\n",
        "\n",
        "  return tf.one_hot(x, depth=len(char_to_index), axis=-1)\n"
      ],
      "metadata": {
        "id": "fbMKnXfYS_pp"
      },
      "execution_count": 130,
      "outputs": []
    },
    {
      "cell_type": "code",
      "source": [
        "unique_categ = len(sku_values.unique())\n",
        "X, y = pre_process_dataset_training(data[\"seller_item_name\"], data[\"marketplace_product_name_ar\"],\n",
        "                       Tx, char_to_index, unique_categ)"
      ],
      "metadata": {
        "id": "fAlgQQ9Ev7Z2"
      },
      "execution_count": 131,
      "outputs": []
    },
    {
      "cell_type": "code",
      "source": [
        "big = 0\n",
        "\n",
        "for index in X[big, 0, :]:\n",
        "  if index == -1:\n",
        "    continue\n",
        "  print(index_to_char[index], end=\"\")\n",
        "\n",
        "print(\"\\n\")\n",
        "for index in X[big, 1, :]:\n",
        "  if index == -1:\n",
        "    continue\n",
        "  print(index_to_char[index], end=\"\")\n",
        "\n",
        "print(\"\\n\")\n",
        "print(y[big])"
      ],
      "metadata": {
        "colab": {
          "base_uri": "https://localhost:8080/"
        },
        "id": "W0VxuOjcgwnx",
        "outputId": "0feb1e97-08fd-4f27-b81a-4fadf4b621d1"
      },
      "execution_count": 132,
      "outputs": [
        {
          "output_type": "stream",
          "name": "stdout",
          "text": [
            "estohalt40mg14cap\n",
            "\n",
            "استوهالت40مجم14كبسول\n",
            "\n",
            "1\n"
          ]
        }
      ]
    },
    {
      "cell_type": "code",
      "source": [
        "print(X.shape)\n",
        "print(y.shape)"
      ],
      "metadata": {
        "id": "rJ4nWEioaCi1",
        "colab": {
          "base_uri": "https://localhost:8080/"
        },
        "outputId": "6694ff78-8295-423a-d324-4e452665ae47"
      },
      "execution_count": 133,
      "outputs": [
        {
          "output_type": "stream",
          "name": "stdout",
          "text": [
            "(130000, 2, 30)\n",
            "(130000,)\n"
          ]
        }
      ]
    },
    {
      "cell_type": "code",
      "source": [
        "X_train, X_test, y_train, y_test = train_test_split(X, y, test_size=0.2, shuffle=True, random_state=42)\n",
        "\n"
      ],
      "metadata": {
        "id": "ClnCsA05EMGP"
      },
      "execution_count": 134,
      "outputs": []
    },
    {
      "cell_type": "code",
      "source": [
        "X_train = tf.one_hot(X_train, depth = vocab_size, axis = -1)\n",
        "\n",
        "X_test =  tf.one_hot(X_test, depth = vocab_size, axis = -1)\n"
      ],
      "metadata": {
        "id": "aZVrTaJoAjDa"
      },
      "execution_count": 135,
      "outputs": []
    },
    {
      "cell_type": "markdown",
      "source": [
        "- The input data X : consists of a tuple (inp1, inp2)\n",
        "  - Each input represents a sentence (medication name)\n",
        "\n",
        "-  The target y : is 0 or 1 for similar or dissimilar, a binary classification problem.\n",
        "\n",
        "- The architecture is (for each input, shared weights) a masking layer , LSTM layer, a distance function which computes the euclidean distance between the final hidden states of the two lstms then Dense Layer with sigmoid activation."
      ],
      "metadata": {
        "id": "I63g3cVVlGK7"
      }
    },
    {
      "cell_type": "code",
      "source": [
        "class Model(tf.keras.Model):\n",
        "  def __init__(self, num_of_layers, hidden_dim ,dropout_rate = 0.3, **kwargs):\n",
        "    super(Model, self).__init__(**kwargs)\n",
        "    self.num_layers = num_of_layers\n",
        "    self.hidden_dim = hidden_dim\n",
        "    self.dropout_rate = dropout_rate\n",
        "    self.masking = Masking(mask_value = 0)\n",
        "    self.last_lstm = LSTM(hidden_dim, return_state = True)\n",
        "    self.lstm_layers = [LSTM(hidden_dim, return_sequences=True)\n",
        "                        for _ in range(self.num_layers - 1)]\n",
        "    self.dropout = Dropout(dropout_rate)\n",
        "    self.dense = Dense(1, activation=\"sigmoid\")\n",
        "\n",
        "  def call_once(self, x):\n",
        "    x = self.masking(x)\n",
        "\n",
        "    for i in range(len(self.lstm_layers)):\n",
        "      x = self.lstm_layers[i](x)\n",
        "      x = self.dropout(x)\n",
        "\n",
        "    x, final_hidden, _ = self.last_lstm(x)\n",
        "\n",
        "    return final_hidden\n",
        "\n",
        "  def call(self, inputs):\n",
        "    x1 = inputs[:, 0, :, :]\n",
        "    x2 = inputs[:, 1, :, :]\n",
        "\n",
        "    first_output = self.call_once(x1)\n",
        "    sec_output = self.call_once(x2)\n",
        "\n",
        "    distance = tf.norm(first_output - sec_output, axis =1 , keepdims=True)\n",
        "    distance = tf.clip_by_value(distance, clip_value_min=1e-7, clip_value_max=1e7)\n",
        "\n",
        "    return self.dense(distance)\n",
        "\n",
        "  def get_config(self):\n",
        "    # Return the configuration of the custom layer, including any parameters\n",
        "    config = super(Model, self).get_config()\n",
        "    # Add any custom parameters here\n",
        "    config.update({\n",
        "        \"num_of_layers\":self.num_layers,\n",
        "        \"hidden_dim\": self.hidden_dim,\n",
        "        \"dropout_rate\" : self.dropout_rate\n",
        "    })\n",
        "    return config\n"
      ],
      "metadata": {
        "id": "9uOpSRX8Edco"
      },
      "execution_count": 153,
      "outputs": []
    },
    {
      "cell_type": "code",
      "source": [
        "model = Model(1, 64)\n",
        "# (1, 64) got inference of batch size of 32 in 12ms"
      ],
      "metadata": {
        "id": "j2trJi-5-Lc5"
      },
      "execution_count": 154,
      "outputs": []
    },
    {
      "cell_type": "code",
      "source": [
        "print(X_train.shape)"
      ],
      "metadata": {
        "colab": {
          "base_uri": "https://localhost:8080/"
        },
        "id": "IlMUoKM90jpe",
        "outputId": "b67c677e-f350-47c5-d088-087b7fc97743"
      },
      "execution_count": 155,
      "outputs": [
        {
          "output_type": "stream",
          "name": "stdout",
          "text": [
            "(104000, 2, 30, 76)\n"
          ]
        }
      ]
    },
    {
      "cell_type": "code",
      "source": [
        "\n",
        "opt = tf.keras.optimizers.Adam(learning_rate=0.005)\n",
        "model.compile(optimizer=opt, loss=\"binary_crossentropy\", metrics=[\"accuracy\"])\n"
      ],
      "metadata": {
        "id": "ULu2IOsr8ASD"
      },
      "execution_count": 156,
      "outputs": []
    },
    {
      "cell_type": "code",
      "source": [
        "history = model.fit(X_train, y_train, epochs= 4, verbose=1, batch_size=64)"
      ],
      "metadata": {
        "colab": {
          "base_uri": "https://localhost:8080/"
        },
        "id": "PM0VyQjqDQJ6",
        "outputId": "880c2d57-283c-40ea-fb16-5e96a3c9c443"
      },
      "execution_count": 157,
      "outputs": [
        {
          "output_type": "stream",
          "name": "stdout",
          "text": [
            "Epoch 1/4\n",
            "\u001b[1m1625/1625\u001b[0m \u001b[32m━━━━━━━━━━━━━━━━━━━━\u001b[0m\u001b[37m\u001b[0m \u001b[1m85s\u001b[0m 48ms/step - accuracy: 0.8003 - loss: 0.4149\n",
            "Epoch 2/4\n",
            "\u001b[1m1625/1625\u001b[0m \u001b[32m━━━━━━━━━━━━━━━━━━━━\u001b[0m\u001b[37m\u001b[0m \u001b[1m83s\u001b[0m 49ms/step - accuracy: 0.9850 - loss: 0.0716\n",
            "Epoch 3/4\n",
            "\u001b[1m1625/1625\u001b[0m \u001b[32m━━━━━━━━━━━━━━━━━━━━\u001b[0m\u001b[37m\u001b[0m \u001b[1m78s\u001b[0m 46ms/step - accuracy: 0.9929 - loss: 0.0438\n",
            "Epoch 4/4\n",
            "\u001b[1m1625/1625\u001b[0m \u001b[32m━━━━━━━━━━━━━━━━━━━━\u001b[0m\u001b[37m\u001b[0m \u001b[1m83s\u001b[0m 47ms/step - accuracy: 0.9941 - loss: 0.0421\n"
          ]
        }
      ]
    },
    {
      "cell_type": "code",
      "source": [
        "import matplotlib.pyplot as plt\n",
        "\n",
        "plt.plot(history.history[\"loss\"])"
      ],
      "metadata": {
        "colab": {
          "base_uri": "https://localhost:8080/",
          "height": 447
        },
        "id": "M_zUa9ee-Oqr",
        "outputId": "575a6136-dc4d-4494-d704-294f2fbbb3a3"
      },
      "execution_count": 158,
      "outputs": [
        {
          "output_type": "execute_result",
          "data": {
            "text/plain": [
              "[<matplotlib.lines.Line2D at 0x7e1dc2be8a50>]"
            ]
          },
          "metadata": {},
          "execution_count": 158
        },
        {
          "output_type": "display_data",
          "data": {
            "text/plain": [
              "<Figure size 640x480 with 1 Axes>"
            ],
            "image/png": "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\n"
          },
          "metadata": {}
        }
      ]
    },
    {
      "cell_type": "code",
      "source": [
        "preds = model.predict(X_test, batch_size=64)\n",
        "binary_preds = (preds > 0.5).astype(np.float32).squeeze()\n",
        "# the model maximum must process a 32 batch size in 15 ms\n"
      ],
      "metadata": {
        "colab": {
          "base_uri": "https://localhost:8080/"
        },
        "id": "LEe9zjx5EiPx",
        "outputId": "fb33f899-06e2-4d28-b3d0-2a3231ace7fe"
      },
      "execution_count": 159,
      "outputs": [
        {
          "output_type": "stream",
          "name": "stdout",
          "text": [
            "\u001b[1m407/407\u001b[0m \u001b[32m━━━━━━━━━━━━━━━━━━━━\u001b[0m\u001b[37m\u001b[0m \u001b[1m10s\u001b[0m 23ms/step\n"
          ]
        }
      ]
    },
    {
      "cell_type": "code",
      "source": [
        "print(accuracy_score(y_test,binary_preds))"
      ],
      "metadata": {
        "id": "mC8oe54zRRi7",
        "colab": {
          "base_uri": "https://localhost:8080/"
        },
        "outputId": "dfb03b73-7224-475a-dceb-a8f5f26ec45d"
      },
      "execution_count": 161,
      "outputs": [
        {
          "output_type": "stream",
          "name": "stdout",
          "text": [
            "0.9941538461538462\n"
          ]
        }
      ]
    },
    {
      "cell_type": "code",
      "source": [
        "def get_prediction(model, input_sentences, Tx, char_to_index, targets):\n",
        "  \"\"\"\n",
        "  input_sentences: array of strings of medication names\n",
        "  targets: 1D array of formatted arabic target names \n",
        "\n",
        "  get prediction using 'input_sentence' from the master file\n",
        "\n",
        "  Returns:\n",
        "    matched name, probability\n",
        "  \"\"\"\n",
        "   assert targets.ndim == 1 , "Targets array is not 1-dimensional"\n",
        "    assert targets.ndim == 1 , "Targets array is not 1-dimensional"\n",
        "\n",
        "\n",
        "  # shape (targets[0], Tx)\n",
        "  targets_indices = np.expand_dims(pre_process_strings(targets, Tx, char_to_index), 1)\n",
        "\n",
        "  input_indices = pre_process_strings(input_sentences, Tx, char_to_index)\n",
        "\n",
        "  # repeat input to try to match it with each sentence in targets\n",
        "  input_repeated = np.expand_dims(np.repeat(input_indices, targets.shape[0], axis=0), 1)\n",
        "\n",
        "  # targets_indices_repeated = np.concatenate([targets_indices, targets_indices], axis=0)\n",
        "\n",
        "  targets_indices_repeated = np.tile(targets_indices, (len(input_sentences), 1, 1))\n",
        "\n",
        "  concat_indices = np.concatenate((targets_indices_repeated, input_repeated), axis=1)\n",
        "\n",
        "  model_input = tf.one_hot(concat_indices, depth =len(char_to_index), axis=-1)\n",
        "\n",
        "  preds = model.predict(model_input, batch_size=1024).reshape(len(input_sentences), targets.shape[0])\n",
        "\n",
        "  # index of the biggest probab\n",
        "  index = np.argmax(preds, axis = 1)\n",
        "\n",
        "  return pd.DataFrame({\n",
        "      \"Probability\": np.max(preds, 1),\n",
        "      \"Matched\": targets[index].values,\n",
        "      \"Input\":input_sentences,\n",
        "\n",
        "  })\n",
        "\n",
        "  # return np.max(preds, 1), targets[index]\n"
      ],
      "metadata": {
        "id": "E8failGjYquo"
      },
      "execution_count": 173,
      "outputs": []
    },
    {
      "cell_type": "code",
      "source": [
        "sen = \"الفانوفا\"\n",
        "sen2 = \"الفانوفا بلس\"\n",
        "sen3 = \"  بانادول اكسترا  48\"\n",
        "sen4 = \"اسبوسيد اطفال 75\"\n",
        "sen5 = \" مش موجود جديييد\"\n",
        "\n",
        "get_prediction(model, np.array([sen,  sen2, sen3, sen4, sen5]), Tx, char_to_index, \"data.xlsx\")\n"
      ],
      "metadata": {
        "id": "zkDaDZCAlUz6",
        "colab": {
          "base_uri": "https://localhost:8080/",
          "height": 224
        },
        "outputId": "c503c194-1bcf-4328-acc8-e276ef5317b5"
      },
      "execution_count": 183,
      "outputs": [
        {
          "output_type": "stream",
          "name": "stdout",
          "text": [
            "\u001b[1m5/5\u001b[0m \u001b[32m━━━━━━━━━━━━━━━━━━━━\u001b[0m\u001b[37m\u001b[0m \u001b[1m2s\u001b[0m 340ms/step\n"
          ]
        },
        {
          "output_type": "execute_result",
          "data": {
            "text/plain": [
              "   Probability                          Matched              Input\n",
              "0     0.987553     الفانوفا 0.15% قطرة عين 5 مل           الفانوفا\n",
              "1     0.991289       الفانوفا بلس قطرة عين 5 مل       الفانوفا بلس\n",
              "2     0.991255            بانادول اكسترا 48 قرص  بانادول اكسترا 48\n",
              "3     0.991084  اسبوسيد اطفال 75 مجم 30 قرص مضغ   اسبوسيد اطفال 75\n",
              "4     0.547747   ميتاكارديا ام آر 35 مجم 30 قرص    مش موجود جديييد"
            ],
            "text/html": [
              "\n",
              "  <div id=\"df-29b1f8b6-0844-49d8-9b3a-38802503b007\" class=\"colab-df-container\">\n",
              "    <div>\n",
              "<style scoped>\n",
              "    .dataframe tbody tr th:only-of-type {\n",
              "        vertical-align: middle;\n",
              "    }\n",
              "\n",
              "    .dataframe tbody tr th {\n",
              "        vertical-align: top;\n",
              "    }\n",
              "\n",
              "    .dataframe thead th {\n",
              "        text-align: right;\n",
              "    }\n",
              "</style>\n",
              "<table border=\"1\" class=\"dataframe\">\n",
              "  <thead>\n",
              "    <tr style=\"text-align: right;\">\n",
              "      <th></th>\n",
              "      <th>Probability</th>\n",
              "      <th>Matched</th>\n",
              "      <th>Input</th>\n",
              "    </tr>\n",
              "  </thead>\n",
              "  <tbody>\n",
              "    <tr>\n",
              "      <th>0</th>\n",
              "      <td>0.987553</td>\n",
              "      <td>الفانوفا 0.15% قطرة عين 5 مل</td>\n",
              "      <td>الفانوفا</td>\n",
              "    </tr>\n",
              "    <tr>\n",
              "      <th>1</th>\n",
              "      <td>0.991289</td>\n",
              "      <td>الفانوفا بلس قطرة عين 5 مل</td>\n",
              "      <td>الفانوفا بلس</td>\n",
              "    </tr>\n",
              "    <tr>\n",
              "      <th>2</th>\n",
              "      <td>0.991255</td>\n",
              "      <td>بانادول اكسترا 48 قرص</td>\n",
              "      <td>بانادول اكسترا 48</td>\n",
              "    </tr>\n",
              "    <tr>\n",
              "      <th>3</th>\n",
              "      <td>0.991084</td>\n",
              "      <td>اسبوسيد اطفال 75 مجم 30 قرص مضغ</td>\n",
              "      <td>اسبوسيد اطفال 75</td>\n",
              "    </tr>\n",
              "    <tr>\n",
              "      <th>4</th>\n",
              "      <td>0.547747</td>\n",
              "      <td>ميتاكارديا ام آر 35 مجم 30 قرص</td>\n",
              "      <td>مش موجود جديييد</td>\n",
              "    </tr>\n",
              "  </tbody>\n",
              "</table>\n",
              "</div>\n",
              "    <div class=\"colab-df-buttons\">\n",
              "\n",
              "  <div class=\"colab-df-container\">\n",
              "    <button class=\"colab-df-convert\" onclick=\"convertToInteractive('df-29b1f8b6-0844-49d8-9b3a-38802503b007')\"\n",
              "            title=\"Convert this dataframe to an interactive table.\"\n",
              "            style=\"display:none;\">\n",
              "\n",
              "  <svg xmlns=\"http://www.w3.org/2000/svg\" height=\"24px\" viewBox=\"0 -960 960 960\">\n",
              "    <path d=\"M120-120v-720h720v720H120Zm60-500h600v-160H180v160Zm220 220h160v-160H400v160Zm0 220h160v-160H400v160ZM180-400h160v-160H180v160Zm440 0h160v-160H620v160ZM180-180h160v-160H180v160Zm440 0h160v-160H620v160Z\"/>\n",
              "  </svg>\n",
              "    </button>\n",
              "\n",
              "  <style>\n",
              "    .colab-df-container {\n",
              "      display:flex;\n",
              "      gap: 12px;\n",
              "    }\n",
              "\n",
              "    .colab-df-convert {\n",
              "      background-color: #E8F0FE;\n",
              "      border: none;\n",
              "      border-radius: 50%;\n",
              "      cursor: pointer;\n",
              "      display: none;\n",
              "      fill: #1967D2;\n",
              "      height: 32px;\n",
              "      padding: 0 0 0 0;\n",
              "      width: 32px;\n",
              "    }\n",
              "\n",
              "    .colab-df-convert:hover {\n",
              "      background-color: #E2EBFA;\n",
              "      box-shadow: 0px 1px 2px rgba(60, 64, 67, 0.3), 0px 1px 3px 1px rgba(60, 64, 67, 0.15);\n",
              "      fill: #174EA6;\n",
              "    }\n",
              "\n",
              "    .colab-df-buttons div {\n",
              "      margin-bottom: 4px;\n",
              "    }\n",
              "\n",
              "    [theme=dark] .colab-df-convert {\n",
              "      background-color: #3B4455;\n",
              "      fill: #D2E3FC;\n",
              "    }\n",
              "\n",
              "    [theme=dark] .colab-df-convert:hover {\n",
              "      background-color: #434B5C;\n",
              "      box-shadow: 0px 1px 3px 1px rgba(0, 0, 0, 0.15);\n",
              "      filter: drop-shadow(0px 1px 2px rgba(0, 0, 0, 0.3));\n",
              "      fill: #FFFFFF;\n",
              "    }\n",
              "  </style>\n",
              "\n",
              "    <script>\n",
              "      const buttonEl =\n",
              "        document.querySelector('#df-29b1f8b6-0844-49d8-9b3a-38802503b007 button.colab-df-convert');\n",
              "      buttonEl.style.display =\n",
              "        google.colab.kernel.accessAllowed ? 'block' : 'none';\n",
              "\n",
              "      async function convertToInteractive(key) {\n",
              "        const element = document.querySelector('#df-29b1f8b6-0844-49d8-9b3a-38802503b007');\n",
              "        const dataTable =\n",
              "          await google.colab.kernel.invokeFunction('convertToInteractive',\n",
              "                                                    [key], {});\n",
              "        if (!dataTable) return;\n",
              "\n",
              "        const docLinkHtml = 'Like what you see? Visit the ' +\n",
              "          '<a target=\"_blank\" href=https://colab.research.google.com/notebooks/data_table.ipynb>data table notebook</a>'\n",
              "          + ' to learn more about interactive tables.';\n",
              "        element.innerHTML = '';\n",
              "        dataTable['output_type'] = 'display_data';\n",
              "        await google.colab.output.renderOutput(dataTable, element);\n",
              "        const docLink = document.createElement('div');\n",
              "        docLink.innerHTML = docLinkHtml;\n",
              "        element.appendChild(docLink);\n",
              "      }\n",
              "    </script>\n",
              "  </div>\n",
              "\n",
              "\n",
              "<div id=\"df-9f217812-c8fd-4108-87c3-e4f1cd04d687\">\n",
              "  <button class=\"colab-df-quickchart\" onclick=\"quickchart('df-9f217812-c8fd-4108-87c3-e4f1cd04d687')\"\n",
              "            title=\"Suggest charts\"\n",
              "            style=\"display:none;\">\n",
              "\n",
              "<svg xmlns=\"http://www.w3.org/2000/svg\" height=\"24px\"viewBox=\"0 0 24 24\"\n",
              "     width=\"24px\">\n",
              "    <g>\n",
              "        <path d=\"M19 3H5c-1.1 0-2 .9-2 2v14c0 1.1.9 2 2 2h14c1.1 0 2-.9 2-2V5c0-1.1-.9-2-2-2zM9 17H7v-7h2v7zm4 0h-2V7h2v10zm4 0h-2v-4h2v4z\"/>\n",
              "    </g>\n",
              "</svg>\n",
              "  </button>\n",
              "\n",
              "<style>\n",
              "  .colab-df-quickchart {\n",
              "      --bg-color: #E8F0FE;\n",
              "      --fill-color: #1967D2;\n",
              "      --hover-bg-color: #E2EBFA;\n",
              "      --hover-fill-color: #174EA6;\n",
              "      --disabled-fill-color: #AAA;\n",
              "      --disabled-bg-color: #DDD;\n",
              "  }\n",
              "\n",
              "  [theme=dark] .colab-df-quickchart {\n",
              "      --bg-color: #3B4455;\n",
              "      --fill-color: #D2E3FC;\n",
              "      --hover-bg-color: #434B5C;\n",
              "      --hover-fill-color: #FFFFFF;\n",
              "      --disabled-bg-color: #3B4455;\n",
              "      --disabled-fill-color: #666;\n",
              "  }\n",
              "\n",
              "  .colab-df-quickchart {\n",
              "    background-color: var(--bg-color);\n",
              "    border: none;\n",
              "    border-radius: 50%;\n",
              "    cursor: pointer;\n",
              "    display: none;\n",
              "    fill: var(--fill-color);\n",
              "    height: 32px;\n",
              "    padding: 0;\n",
              "    width: 32px;\n",
              "  }\n",
              "\n",
              "  .colab-df-quickchart:hover {\n",
              "    background-color: var(--hover-bg-color);\n",
              "    box-shadow: 0 1px 2px rgba(60, 64, 67, 0.3), 0 1px 3px 1px rgba(60, 64, 67, 0.15);\n",
              "    fill: var(--button-hover-fill-color);\n",
              "  }\n",
              "\n",
              "  .colab-df-quickchart-complete:disabled,\n",
              "  .colab-df-quickchart-complete:disabled:hover {\n",
              "    background-color: var(--disabled-bg-color);\n",
              "    fill: var(--disabled-fill-color);\n",
              "    box-shadow: none;\n",
              "  }\n",
              "\n",
              "  .colab-df-spinner {\n",
              "    border: 2px solid var(--fill-color);\n",
              "    border-color: transparent;\n",
              "    border-bottom-color: var(--fill-color);\n",
              "    animation:\n",
              "      spin 1s steps(1) infinite;\n",
              "  }\n",
              "\n",
              "  @keyframes spin {\n",
              "    0% {\n",
              "      border-color: transparent;\n",
              "      border-bottom-color: var(--fill-color);\n",
              "      border-left-color: var(--fill-color);\n",
              "    }\n",
              "    20% {\n",
              "      border-color: transparent;\n",
              "      border-left-color: var(--fill-color);\n",
              "      border-top-color: var(--fill-color);\n",
              "    }\n",
              "    30% {\n",
              "      border-color: transparent;\n",
              "      border-left-color: var(--fill-color);\n",
              "      border-top-color: var(--fill-color);\n",
              "      border-right-color: var(--fill-color);\n",
              "    }\n",
              "    40% {\n",
              "      border-color: transparent;\n",
              "      border-right-color: var(--fill-color);\n",
              "      border-top-color: var(--fill-color);\n",
              "    }\n",
              "    60% {\n",
              "      border-color: transparent;\n",
              "      border-right-color: var(--fill-color);\n",
              "    }\n",
              "    80% {\n",
              "      border-color: transparent;\n",
              "      border-right-color: var(--fill-color);\n",
              "      border-bottom-color: var(--fill-color);\n",
              "    }\n",
              "    90% {\n",
              "      border-color: transparent;\n",
              "      border-bottom-color: var(--fill-color);\n",
              "    }\n",
              "  }\n",
              "</style>\n",
              "\n",
              "  <script>\n",
              "    async function quickchart(key) {\n",
              "      const quickchartButtonEl =\n",
              "        document.querySelector('#' + key + ' button');\n",
              "      quickchartButtonEl.disabled = true;  // To prevent multiple clicks.\n",
              "      quickchartButtonEl.classList.add('colab-df-spinner');\n",
              "      try {\n",
              "        const charts = await google.colab.kernel.invokeFunction(\n",
              "            'suggestCharts', [key], {});\n",
              "      } catch (error) {\n",
              "        console.error('Error during call to suggestCharts:', error);\n",
              "      }\n",
              "      quickchartButtonEl.classList.remove('colab-df-spinner');\n",
              "      quickchartButtonEl.classList.add('colab-df-quickchart-complete');\n",
              "    }\n",
              "    (() => {\n",
              "      let quickchartButtonEl =\n",
              "        document.querySelector('#df-9f217812-c8fd-4108-87c3-e4f1cd04d687 button');\n",
              "      quickchartButtonEl.style.display =\n",
              "        google.colab.kernel.accessAllowed ? 'block' : 'none';\n",
              "    })();\n",
              "  </script>\n",
              "</div>\n",
              "\n",
              "    </div>\n",
              "  </div>\n"
            ],
            "application/vnd.google.colaboratory.intrinsic+json": {
              "type": "dataframe",
              "summary": "{\n  \"name\": \"get_prediction(model, np\",\n  \"rows\": 5,\n  \"fields\": [\n    {\n      \"column\": \"Probability\",\n      \"properties\": {\n        \"dtype\": \"float32\",\n        \"num_unique_values\": 5,\n        \"samples\": [\n          0.9912885427474976,\n          0.5477467179298401,\n          0.9912554621696472\n        ],\n        \"semantic_type\": \"\",\n        \"description\": \"\"\n      }\n    },\n    {\n      \"column\": \"Matched\",\n      \"properties\": {\n        \"dtype\": \"string\",\n        \"num_unique_values\": 5,\n        \"samples\": [\n          \"\\u0627\\u0644\\u0641\\u0627\\u0646\\u0648\\u0641\\u0627 \\u0628\\u0644\\u0633 \\u0642\\u0637\\u0631\\u0629 \\u0639\\u064a\\u0646 5 \\u0645\\u0644\",\n          \"\\u0645\\u064a\\u062a\\u0627\\u0643\\u0627\\u0631\\u062f\\u064a\\u0627 \\u0627\\u0645 \\u0622\\u0631 35 \\u0645\\u062c\\u0645 30 \\u0642\\u0631\\u0635\",\n          \"\\u0628\\u0627\\u0646\\u0627\\u062f\\u0648\\u0644 \\u0627\\u0643\\u0633\\u062a\\u0631\\u0627 48 \\u0642\\u0631\\u0635\"\n        ],\n        \"semantic_type\": \"\",\n        \"description\": \"\"\n      }\n    },\n    {\n      \"column\": \"Input\",\n      \"properties\": {\n        \"dtype\": \"string\",\n        \"num_unique_values\": 5,\n        \"samples\": [\n          \"\\u0627\\u0644\\u0641\\u0627\\u0646\\u0648\\u0641\\u0627 \\u0628\\u0644\\u0633\",\n          \"\\u0645\\u0634 \\u0645\\u0648\\u062c\\u0648\\u062f \\u062c\\u062f\\u064a\\u064a\\u064a\\u062f\",\n          \"\\u0628\\u0627\\u0646\\u0627\\u062f\\u0648\\u0644 \\u0627\\u0643\\u0633\\u062a\\u0631\\u0627 48\"\n        ],\n        \"semantic_type\": \"\",\n        \"description\": \"\"\n      }\n    }\n  ]\n}"
            }
          },
          "metadata": {},
          "execution_count": 183
        }
      ]
    },
    {
      "cell_type": "code",
      "source": [
        "\n",
        "# x_try_1 = pre_process_input(\"اسبوسيد اطفال 75 مجم 30 قرص مضغ\", \"كارنيفيتا ادفانس للنساء\", Tx, char_to_index)\n",
        "\n",
        "# x_try_2 = pre_process_input(\"داونوبرازول20ملى قرص جديييييييييييد \", \"  داونوبرازول 20/1100 مجم 14 كبسول\", Tx, char_to_index)\n",
        "\n",
        "# x_try_3 = pre_process_input(\"الفانوفا 0.15% قطرة عين 5 مل\", \"الفانوفا بلس قطرة \", Tx, char_to_index)\n",
        "\n",
        "# x_try_4 = pre_process_input(\"ESTOHALT 40 MG 14 CAP\", \"استوهالت 40 مجم 14 كبسول\", Tx, char_to_index)\n",
        "\n",
        "# x_try_5 = pre_process_input( \"اماريل 3 مجم 30 قرص\", \"AMARYL TABS 3 MG 30\", Tx, char_to_index)\n",
        "\n",
        "# x_try = tf.concat([x_try_1, x_try_2, x_try_3, x_try_4, x_try_5], 0)\n"
      ],
      "metadata": {
        "id": "EshLT4eJRu3G"
      },
      "execution_count": null,
      "outputs": []
    },
    {
      "cell_type": "code",
      "source": [
        "# preds = model.predict(x_try)\n",
        "# print((preds * 100))"
      ],
      "metadata": {
        "id": "CzTdnvMUVHsR"
      },
      "execution_count": null,
      "outputs": []
    },
    {
      "cell_type": "code",
      "source": [],
      "metadata": {
        "id": "NLu18pDIV3sD"
      },
      "execution_count": null,
      "outputs": []
    }
  ],
  "metadata": {
    "colab": {
      "provenance": []
    },
    "kernelspec": {
      "display_name": "Python 3",
      "name": "python3"
    },
    "language_info": {
      "name": "python"
    }
  },
  "nbformat": 4,
  "nbformat_minor": 0
}
